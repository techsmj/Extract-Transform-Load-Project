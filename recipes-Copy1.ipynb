{
 "cells": [
  {
   "cell_type": "code",
   "execution_count": 1,
   "metadata": {},
   "outputs": [],
   "source": [
    "# Dependencies\n",
    "from selenium import webdriver\n",
    "from bs4 import BeautifulSoup\n",
    "import requests\n",
    "from splinter import Browser\n",
    "import re\n",
    "import pandas as pd\n",
    "import os"
   ]
  },
  {
   "cell_type": "code",
   "execution_count": 2,
   "metadata": {},
   "outputs": [],
   "source": [
    "recipe_data = {}"
   ]
  },
  {
   "cell_type": "code",
   "execution_count": 4,
   "metadata": {},
   "outputs": [],
   "source": [
    "url = 'https://www.allrecipes.com/recipes/84/healthy-recipes/'\n",
    "\n",
    "driver = webdriver.Chrome()\n",
    "driver.implicitly_wait(30)\n",
    "driver.get(url)\n",
    "\n",
    "python_button = driver.find_element_by_class_name(\"fixed-recipe-card__title-link\")\n",
    "python_button.click()"
   ]
  },
  {
   "cell_type": "code",
   "execution_count": 5,
   "metadata": {},
   "outputs": [
    {
     "data": {
      "text/plain": [
       "'Mexican Pintos with Cactus'"
      ]
     },
     "execution_count": 5,
     "metadata": {},
     "output_type": "execute_result"
    }
   ],
   "source": [
    "soup1 = BeautifulSoup(driver.page_source, 'html')\n",
    "results = soup1.find_all('h1', class_ = \"fixed-recipe-card\")\n",
    "recipe_title=soup1.find('h1').text\n",
    "recipe_title"
   ]
  },
  {
   "cell_type": "code",
   "execution_count": 6,
   "metadata": {},
   "outputs": [],
   "source": [
    "python_button = driver.find_element_by_class_name(\"checklist\")\n",
    "python_button.click()"
   ]
  },
  {
   "cell_type": "code",
   "execution_count": 7,
   "metadata": {},
   "outputs": [
    {
     "data": {
      "text/plain": [
       "[<label class=\"checkList__item\" ng-class=\"{true: 'checkList__item'}[true]\" title=\"2 cups dry pinto beans, rinsed\"><input data-id=\"2803\" data-role=\"none\" name=\"ingredientCheckbox\" ng-click=\"saveIngredient($event,2803)\" type=\"checkbox\" value=\"N\"/> <span class=\"recipe-ingred_txt added\" data-id=\"2803\" data-nameid=\"2803\" itemprop=\"recipeIngredient\">2 cups dry pinto beans, rinsed</span></label>,\n",
       " <label class=\"checkList__item\" ng-class=\"{true: 'checkList__item'}[true]\" title=\"3 tablespoons salt, divided\"><input data-id=\"16421\" data-role=\"none\" name=\"ingredientCheckbox\" ng-click=\"saveIngredient($event,16421)\" type=\"checkbox\" value=\"N\"/> <span class=\"recipe-ingred_txt added\" data-id=\"16421\" data-nameid=\"16421\" itemprop=\"recipeIngredient\">3 tablespoons salt, divided</span></label>,\n",
       " <label class=\"checkList__item\" ng-class=\"{true: 'checkList__item'}[true]\" title=\"3 slices bacon, chopped\"><input data-id=\"5375\" data-role=\"none\" name=\"ingredientCheckbox\" ng-click=\"saveIngredient($event,5375)\" type=\"checkbox\" value=\"N\"/> <span class=\"recipe-ingred_txt added\" data-id=\"5375\" data-nameid=\"5375\" itemprop=\"recipeIngredient\">3 slices bacon, chopped</span></label>,\n",
       " <label class=\"checkList__item\" ng-class=\"{true: 'checkList__item'}[true]\" title=\"2 large flat cactus leaves (nopales)\"><input data-id=\"7213\" data-role=\"none\" name=\"ingredientCheckbox\" ng-click=\"saveIngredient($event,7213)\" type=\"checkbox\" value=\"N\"/> <span class=\"recipe-ingred_txt added\" data-id=\"7213\" data-nameid=\"7213\" itemprop=\"recipeIngredient\">2 large flat cactus leaves (nopales)</span></label>,\n",
       " <label class=\"checkList__item\" ng-class=\"{true: 'checkList__item'}[true]\" title=\"1 jalapeno pepper, seeded and chopped\"><input data-id=\"3725\" data-role=\"none\" name=\"ingredientCheckbox\" ng-click=\"saveIngredient($event,3725)\" type=\"checkbox\" value=\"N\"/> <span class=\"recipe-ingred_txt added\" data-id=\"3725\" data-nameid=\"3725\" itemprop=\"recipeIngredient\">1 jalapeno pepper, seeded and chopped</span></label>,\n",
       " <label class=\"checkList__item\" ng-class=\"{true: 'checkList__item'}[true]\" title=\"2 slices onion\"><input data-id=\"4397\" data-role=\"none\" name=\"ingredientCheckbox\" ng-click=\"saveIngredient($event,4397)\" type=\"checkbox\" value=\"N\"/> <span class=\"recipe-ingred_txt added\" data-id=\"4397\" data-nameid=\"4397\" itemprop=\"recipeIngredient\">2 slices onion</span></label>,\n",
       " <label class=\"checkList__item\" id=\"btn-addtolist\"><input data-role=\"none\" name=\"slCheckbox\" ng-click=\"saveRecipe($event,'80680','Recipe')\" type=\"checkbox\"/> <span class=\"recipe-ingred_txt added white\">Add all ingredients to list</span></label>]"
      ]
     },
     "execution_count": 7,
     "metadata": {},
     "output_type": "execute_result"
    }
   ],
   "source": [
    "soup2 = BeautifulSoup(driver.page_source, 'html')\n",
    "results = soup2.find_all('label', class_ = \"checkList__item\")\n",
    "results"
   ]
  },
  {
   "cell_type": "code",
   "execution_count": 8,
   "metadata": {},
   "outputs": [
    {
     "name": "stdout",
     "output_type": "stream",
     "text": [
      "2 cups dry pinto beans, rinsed\n",
      "3 tablespoons salt, divided\n",
      "3 slices bacon, chopped\n",
      "2 large flat cactus leaves (nopales)\n",
      "1 jalapeno pepper, seeded and chopped\n",
      "2 slices onion\n",
      "Add all ingredients to list\n"
     ]
    }
   ],
   "source": [
    "for result in results:\n",
    "    ingredient = result.find('span').text\n",
    "    print(ingredient)"
   ]
  },
  {
   "cell_type": "code",
   "execution_count": null,
   "metadata": {},
   "outputs": [],
   "source": [
    "def top20list(br, year):\n",
    "    html_list = br.find_element_by_id(\"grid\")\n",
    "    urls = html_list.find_elements(By.CLASS_NAME, \"favorite\")\n",
    "    id = []\n",
    "    for i, e in enumerate(urls):\n",
    "    \tid.append(e.get_attribute('data-id'))\t\n",
    "    \turls[i] = 'https://allrecipes.com/recipe/' + str(id[i])\n",
    "    \t# counter +=\n",
    "    urls = np.unique(urls)\n",
    "    id = np.unique(id)\n",
    "\n",
    "    for i, url in enumerate(urls):\n",
    "    \tbr.get(url)\n",
    "    \ttime.sleep(3)\n",
    "    \tscrape_recipe(br, year, id[i])\n",
    "\n",
    "\n",
    "def scrape_recipe(br, year, idnumber):\n",
    "\t# fill in code for recipe page\n",
    "\ttry:\n",
    "\t\trtitle = br.find_element_by_tag_name('h1').text\n",
    "\texcept:\n",
    "\t\trtitle = 'NA'\n",
    "\n",
    "\tprint idnumber\n",
    "\tprint rtitle\n",
    "\t\n",
    "\ttry:\n",
    "\t\tbr.find_element_by_xpath('//div[contains(@class,\"ui-dialog\") and @aria-describedby=\"dialogContent2\"]//button[@title=\"Close\"]').click()\n",
    "\texcept:\n",
    "\t\tprint 'no popup'\n",
    "\n",
    "\ttry:\n",
    "\t\tstarrating = br.find_element_by_class_name('rating-stars').get_attribute('data-ratingstars')\n",
    "\t\t\n",
    "\texcept:\n",
    "\t\tstarrating = 'NA'\n",
    "\t\t\n",
    "\n",
    "\ttry:\n",
    "\t\tmadeitcount = br.find_element_by_class_name('made-it-count').text\n",
    "\t\t\n",
    "\texcept:\n",
    "\t\tmadeitcount = 'NA'\n",
    "\n",
    "\ttry:\n",
    "\t\treviewcount = br.find_element_by_class_name('review-count').text\n",
    "\t\treviewcount = str(re.findall('(\\w+) reviews', reviewcount)[0])\n",
    "\t\t\n",
    "\texcept:\n",
    "\t\treviewcount = 'NA'\n",
    "\t\t\n",
    "\n",
    "\ttry:\n",
    "\t\tcalcount = br.find_element_by_class_name('calorie-count').text\n",
    "\t\tcalcount = str(re.findall('(\\w+) cals', calcount)[0])\n",
    "\t\t\n",
    "\texcept:\n",
    "\t\tcalcount = 'NA'\n",
    "\t\t\n",
    "\t\n",
    "\ttry:\n",
    "\t\tprepTime = br.find_element_by_xpath('//time[@itemprop = \"prepTime\"]').get_attribute('datetime')\n",
    "\t\tprepTime = str(re.findall('PT(\\w+)', prepTime)[0])\n",
    "\t\t\n",
    "\texcept: \n",
    "\t\tprepTime = 'NA'\n",
    "\t\t\n",
    "\n",
    "\n",
    "\ttry:\n",
    "\t\tcookTime = br.find_element_by_xpath('//time[@itemprop = \"cookTime\"]').get_attribute('datetime')\n",
    "\t\tcookTime = str(re.findall('PT(\\w+)', cookTime)[0])\n",
    "\t\t\n",
    "\texcept:\n",
    "\t\tcookTime = 'NA'\n",
    "\t\t\n",
    "\n",
    "\n",
    "\ttry:\n",
    "\t\ttotalTime = br.find_element_by_xpath('//time[@itemprop = \"totalTime\"]').get_attribute('datetime')\n",
    "\t\ttotalTime = str(re.findall('PT(\\w+)', totalTime)[0])\n",
    "\t\t\n",
    "\texcept:\n",
    "\t\ttotalTime = 'NA'\n",
    "\t\t\n",
    "\t# \"prep time: \" + \n",
    "\t# print \"cook time: \" + br.find_elements_by_class_name(\"prepTime__item\")[2].get_attribute('datetime')\n",
    "\t# print \"total time: \" + br.find_elements_by_class_name(\"prepTime__item\")[3].get_attribute('datetime')\n",
    "\n",
    "\tingred = br.find_elements_by_class_name(\"checkList__item\")\n",
    "\n",
    "\tingredients = []\n",
    "\tfor x in np.arange(len(ingred)-1):\n",
    "\t\t#if (str(ingred[x].text) == '')\n",
    "\n",
    "\t\tingredients.append(str(ingred[x].text.encode('ascii', 'ignore')))\n",
    "\t\n",
    "\tprint 'testoutput: '\n",
    "\trecoutput = '\\t'+year+'\\t'+idnumber+'\\t'+rtitle+'\\t'+starrating+'\\t'+madeitcount+'\\t'+reviewcount+'\\t'+calcount+'\\t'+prepTime+'\\t'+\\\n",
    "\tcookTime+'\\t'+totalTime\n",
    "\t\n",
    "\tprint recoutput\n",
    "\tlistingr = []\n",
    "\n",
    "\tfor ingr in ingredients:\n",
    "\t\ttemp = {'idnumber': idnumber, 'year': year, 'ingredient': ingr.encode('ascii', 'ignore')}\n",
    "\t\tcollection2.insert(temp)#listingr.append(year+'\\t'+idnumber+'\\t'+ingr)\n",
    "\n",
    "\tingroutput = '\\t'.join(listingr)\n",
    "\tingroutput = '\\t'+ingroutput\n",
    "\tprint ingroutput\n",
    "\t#cloeses automatically, append data to csv then open as panda data frame \n",
    "\ttemp = {'idnumber': idnumber, 'year': year, 'recipe_title': rtitle.encode('ascii', 'ignore'), 'star_rating': starrating, 'made_it_count': \\\n",
    "\t\tmadeitcount, 'review_count': reviewcount, 'cal_count': calcount, 'prep_time': prepTime, 'cook_time': cookTime, \\\n",
    "\t\t'total_time': totalTime}\n",
    "\tcollection.insert(temp)\n",
    "\n",
    "    \t\n",
    "\n",
    "#opens browser and initalizes MongoDB\n",
    "if __name__ == '__main__':\n",
    "\ttry:\n",
    "\t\tconn=pymongo.MongoClient()\n",
    "\t\tprint \"Connected successfully!!!\"\n",
    "\texcept pymongo.errors.ConnectionFailure, e:\n",
    "\t\tprint \"Could not connect to MongoDB: %s\" % e \n",
    "\tconn\n",
    "\n",
    "\trecipesdb = conn['allrecipes']\n",
    "\tcollection = recipesdb['recipes']\n",
    "\tcollection2 = recipesdb['ingredients']\n",
    "\tbrowser = webdriver.Firefox() #opens Firefox browser \n",
    "\tallyears(browser) \n",
    " \t\n",
    "  \t#after2001 I changed ingredients to include tab before year\n",
    "  \t#2009 changes to 16062, 2010 16322, 2011 17478, 2012 17479, 2013 17480\n",
    "  \t#pie vs cake vs cookies?\n",
    "  \t# median calories over time\n",
    "  \t#median time over time"
   ]
  },
  {
   "cell_type": "code",
   "execution_count": null,
   "metadata": {},
   "outputs": [],
   "source": []
  },
  {
   "cell_type": "code",
   "execution_count": null,
   "metadata": {},
   "outputs": [],
   "source": []
  },
  {
   "cell_type": "code",
   "execution_count": null,
   "metadata": {},
   "outputs": [],
   "source": []
  },
  {
   "cell_type": "code",
   "execution_count": null,
   "metadata": {},
   "outputs": [],
   "source": [
    "            \n"
   ]
  },
  {
   "cell_type": "code",
   "execution_count": null,
   "metadata": {},
   "outputs": [],
   "source": []
  },
  {
   "cell_type": "code",
   "execution_count": null,
   "metadata": {},
   "outputs": [],
   "source": []
  },
  {
   "cell_type": "code",
   "execution_count": null,
   "metadata": {},
   "outputs": [],
   "source": []
  }
 ],
 "metadata": {
  "kernelspec": {
   "display_name": "Python 3",
   "language": "python",
   "name": "python3"
  },
  "language_info": {
   "codemirror_mode": {
    "name": "ipython",
    "version": 3
   },
   "file_extension": ".py",
   "mimetype": "text/x-python",
   "name": "python",
   "nbconvert_exporter": "python",
   "pygments_lexer": "ipython3",
   "version": "3.7.1"
  }
 },
 "nbformat": 4,
 "nbformat_minor": 2
}
