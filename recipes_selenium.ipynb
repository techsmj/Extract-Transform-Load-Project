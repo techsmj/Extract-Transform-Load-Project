{
 "cells": [
  {
   "cell_type": "code",
   "execution_count": 1,
   "metadata": {},
   "outputs": [],
   "source": [
    "# Dependencies\n",
    "from selenium import webdriver\n",
    "from bs4 import BeautifulSoup\n",
    "import requests\n",
    "from splinter import Browser\n",
    "import re\n",
    "import pandas as pd\n",
    "import os"
   ]
  },
  {
   "cell_type": "code",
   "execution_count": 2,
   "metadata": {},
   "outputs": [],
   "source": [
    "url = 'https://www.allrecipes.com/recipes/84/healthy-recipes/?internalSource=hubcard&referringContentType=Search&clickId=cardslot%201'\n",
    "\n",
    "driver = webdriver.Chrome()\n",
    "driver.implicitly_wait(30)\n",
    "driver.get(url)"
   ]
  },
  {
   "cell_type": "code",
   "execution_count": 3,
   "metadata": {},
   "outputs": [],
   "source": [
    "python_button = driver.find_element_by_class_name(\"fixed-recipe-card__title-link\")\n",
    "python_button.click()"
   ]
  },
  {
   "cell_type": "code",
   "execution_count": 6,
   "metadata": {},
   "outputs": [],
   "source": [
    "python_button = driver.find_element_by_class_name(\"checklist\")\n",
    "python_button.click()"
   ]
  },
  {
   "cell_type": "code",
   "execution_count": 8,
   "metadata": {},
   "outputs": [
    {
     "data": {
      "text/plain": [
       "[<label class=\"checkList__item\" ng-class=\"{true: 'checkList__item'}[true]\" title=\"2 cups dry pinto beans, rinsed\"><input data-id=\"2803\" data-role=\"none\" name=\"ingredientCheckbox\" ng-click=\"saveIngredient($event,2803)\" type=\"checkbox\" value=\"N\"/> <span class=\"recipe-ingred_txt added\" data-id=\"2803\" data-nameid=\"2803\" itemprop=\"recipeIngredient\">2 cups dry pinto beans, rinsed</span></label>,\n",
       " <label class=\"checkList__item\" ng-class=\"{true: 'checkList__item'}[true]\" title=\"3 tablespoons salt, divided\"><input data-id=\"16421\" data-role=\"none\" name=\"ingredientCheckbox\" ng-click=\"saveIngredient($event,16421)\" type=\"checkbox\" value=\"N\"/> <span class=\"recipe-ingred_txt added\" data-id=\"16421\" data-nameid=\"16421\" itemprop=\"recipeIngredient\">3 tablespoons salt, divided</span></label>,\n",
       " <label class=\"checkList__item\" ng-class=\"{true: 'checkList__item'}[true]\" title=\"3 slices bacon, chopped\"><input data-id=\"5375\" data-role=\"none\" name=\"ingredientCheckbox\" ng-click=\"saveIngredient($event,5375)\" type=\"checkbox\" value=\"N\"/> <span class=\"recipe-ingred_txt added\" data-id=\"5375\" data-nameid=\"5375\" itemprop=\"recipeIngredient\">3 slices bacon, chopped</span></label>,\n",
       " <label class=\"checkList__item\" ng-class=\"{true: 'checkList__item'}[true]\" title=\"2 large flat cactus leaves (nopales)\"><input data-id=\"7213\" data-role=\"none\" name=\"ingredientCheckbox\" ng-click=\"saveIngredient($event,7213)\" type=\"checkbox\" value=\"N\"/> <span class=\"recipe-ingred_txt added\" data-id=\"7213\" data-nameid=\"7213\" itemprop=\"recipeIngredient\">2 large flat cactus leaves (nopales)</span></label>,\n",
       " <label class=\"checkList__item\" ng-class=\"{true: 'checkList__item'}[true]\" title=\"1 jalapeno pepper, seeded and chopped\"><input data-id=\"3725\" data-role=\"none\" name=\"ingredientCheckbox\" ng-click=\"saveIngredient($event,3725)\" type=\"checkbox\" value=\"N\"/> <span class=\"recipe-ingred_txt added\" data-id=\"3725\" data-nameid=\"3725\" itemprop=\"recipeIngredient\">1 jalapeno pepper, seeded and chopped</span></label>,\n",
       " <label class=\"checkList__item\" ng-class=\"{true: 'checkList__item'}[true]\" title=\"2 slices onion\"><input data-id=\"4397\" data-role=\"none\" name=\"ingredientCheckbox\" ng-click=\"saveIngredient($event,4397)\" type=\"checkbox\" value=\"N\"/> <span class=\"recipe-ingred_txt added\" data-id=\"4397\" data-nameid=\"4397\" itemprop=\"recipeIngredient\">2 slices onion</span></label>,\n",
       " <label class=\"checkList__item\" id=\"btn-addtolist\"><input data-role=\"none\" name=\"slCheckbox\" ng-click=\"saveRecipe($event,'80680','Recipe')\" type=\"checkbox\"/> <span class=\"recipe-ingred_txt added white\">Add all ingredients to list</span></label>]"
      ]
     },
     "execution_count": 8,
     "metadata": {},
     "output_type": "execute_result"
    }
   ],
   "source": [
    "soup = BeautifulSoup(driver.page_source, 'html')\n",
    "results = soup.find_all('label', class_ = \"checkList__item\")\n",
    "results"
   ]
  },
  {
   "cell_type": "code",
   "execution_count": 12,
   "metadata": {},
   "outputs": [
    {
     "name": "stdout",
     "output_type": "stream",
     "text": [
      "2 cups dry pinto beans, rinsed\n",
      "3 tablespoons salt, divided\n",
      "3 slices bacon, chopped\n",
      "2 large flat cactus leaves (nopales)\n",
      "1 jalapeno pepper, seeded and chopped\n",
      "2 slices onion\n",
      "Add all ingredients to list\n"
     ]
    }
   ],
   "source": [
    "for result in results:\n",
    "    ingredient = result.find('span').text\n",
    "    print(ingredient)"
   ]
  },
  {
   "cell_type": "code",
   "execution_count": null,
   "metadata": {},
   "outputs": [],
   "source": []
  },
  {
   "cell_type": "code",
   "execution_count": null,
   "metadata": {},
   "outputs": [],
   "source": []
  },
  {
   "cell_type": "code",
   "execution_count": null,
   "metadata": {},
   "outputs": [],
   "source": []
  },
  {
   "cell_type": "code",
   "execution_count": null,
   "metadata": {},
   "outputs": [],
   "source": []
  },
  {
   "cell_type": "code",
   "execution_count": null,
   "metadata": {},
   "outputs": [],
   "source": [
    "            \n"
   ]
  },
  {
   "cell_type": "code",
   "execution_count": null,
   "metadata": {},
   "outputs": [],
   "source": []
  },
  {
   "cell_type": "code",
   "execution_count": null,
   "metadata": {},
   "outputs": [],
   "source": []
  },
  {
   "cell_type": "code",
   "execution_count": null,
   "metadata": {},
   "outputs": [],
   "source": []
  }
 ],
 "metadata": {
  "kernelspec": {
   "display_name": "Python 3",
   "language": "python",
   "name": "python3"
  },
  "language_info": {
   "codemirror_mode": {
    "name": "ipython",
    "version": 3
   },
   "file_extension": ".py",
   "mimetype": "text/x-python",
   "name": "python",
   "nbconvert_exporter": "python",
   "pygments_lexer": "ipython3",
   "version": "3.7.0"
  }
 },
 "nbformat": 4,
 "nbformat_minor": 2
}
