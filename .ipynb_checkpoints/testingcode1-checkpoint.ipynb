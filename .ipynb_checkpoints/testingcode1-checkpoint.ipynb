{
 "cells": [
  {
   "cell_type": "code",
   "execution_count": 24,
   "metadata": {},
   "outputs": [],
   "source": [
    "# Dependencies\n",
    "from bs4 import BeautifulSoup\n",
    "import requests\n",
    "import pymongo\n",
    "from selenium import webdriver\n",
    "from selenium.webdriver.common.keys import Keys\n",
    "from selenium.webdriver.common.by import By\n",
    "from selenium.webdriver.support.ui import WebDriverWait\n",
    "from selenium.webdriver.support import expected_conditions as EC\n",
    "from selenium.common.exceptions import TimeoutException\n",
    "import scrapy\n",
    "from sys import argv\n",
    "import time\n",
    "import csv\n",
    "import lxml.html\n",
    "import unicodedata\n",
    "import time\n",
    "import numpy as np\n",
    "import re\n"
   ]
  },
  {
   "cell_type": "code",
   "execution_count": 2,
   "metadata": {
    "collapsed": true
   },
   "outputs": [],
   "source": [
    "# Initialize PyMongo to work with MongoDBs\n",
    "conn = 'mongodb://localhost:27017'\n",
    "client = pymongo.MongoClient(conn)"
   ]
  },
  {
   "cell_type": "code",
   "execution_count": 3,
   "metadata": {
    "collapsed": true
   },
   "outputs": [],
   "source": [
    "# Define database and collection\n",
    "db = client.craigslist_db\n",
    "collection = db.items"
   ]
  },
  {
   "cell_type": "code",
   "execution_count": 25,
   "metadata": {},
   "outputs": [],
   "source": [
    "# URL of page to be scraped\n",
    "url = 'https://www.allrecipes.com/recipes/84/healthy-recipes/'\n",
    "\n",
    "# Retrieve page with the requests module\n",
    "response = requests.get(url)\n",
    "# Create BeautifulSoup object; parse with 'lxml'\n",
    "soup = BeautifulSoup(response.text, 'lxml')"
   ]
  },
  {
   "cell_type": "code",
   "execution_count": 26,
   "metadata": {},
   "outputs": [
    {
     "name": "stdout",
     "output_type": "stream",
     "text": [
      "['https://www.allrecipes.com/recipe/217013/chop-chop-salad/']\n",
      "['https://www.allrecipes.com/recipe/217013/chop-chop-salad/', 'https://www.allrecipes.com/recipe/245946/healthy-turmeric-chicken-stew/']\n",
      "['https://www.allrecipes.com/recipe/217013/chop-chop-salad/', 'https://www.allrecipes.com/recipe/245946/healthy-turmeric-chicken-stew/', 'https://www.allrecipes.com/recipe/260392/turkish-orange-salad-with-mediterranean-dressing/']\n",
      "['https://www.allrecipes.com/recipe/217013/chop-chop-salad/', 'https://www.allrecipes.com/recipe/245946/healthy-turmeric-chicken-stew/', 'https://www.allrecipes.com/recipe/260392/turkish-orange-salad-with-mediterranean-dressing/', 'https://www.allrecipes.com/recipe/259262/acai-smoothie-bowl/']\n",
      "['https://www.allrecipes.com/recipe/217013/chop-chop-salad/', 'https://www.allrecipes.com/recipe/245946/healthy-turmeric-chicken-stew/', 'https://www.allrecipes.com/recipe/260392/turkish-orange-salad-with-mediterranean-dressing/', 'https://www.allrecipes.com/recipe/259262/acai-smoothie-bowl/', 'https://www.allrecipes.com/recipe/72381/orange-roasted-salmon/']\n",
      "['https://www.allrecipes.com/recipe/217013/chop-chop-salad/', 'https://www.allrecipes.com/recipe/245946/healthy-turmeric-chicken-stew/', 'https://www.allrecipes.com/recipe/260392/turkish-orange-salad-with-mediterranean-dressing/', 'https://www.allrecipes.com/recipe/259262/acai-smoothie-bowl/', 'https://www.allrecipes.com/recipe/72381/orange-roasted-salmon/', 'https://www.allrecipes.com/recipe/199598/quinoa-with-asian-flavors/']\n",
      "['https://www.allrecipes.com/recipe/217013/chop-chop-salad/', 'https://www.allrecipes.com/recipe/245946/healthy-turmeric-chicken-stew/', 'https://www.allrecipes.com/recipe/260392/turkish-orange-salad-with-mediterranean-dressing/', 'https://www.allrecipes.com/recipe/259262/acai-smoothie-bowl/', 'https://www.allrecipes.com/recipe/72381/orange-roasted-salmon/', 'https://www.allrecipes.com/recipe/199598/quinoa-with-asian-flavors/', 'https://www.allrecipes.com/recipe/256590/chorizo-spiced-party-sized-chopped-veggie-salad/']\n",
      "['https://www.allrecipes.com/recipe/217013/chop-chop-salad/', 'https://www.allrecipes.com/recipe/245946/healthy-turmeric-chicken-stew/', 'https://www.allrecipes.com/recipe/260392/turkish-orange-salad-with-mediterranean-dressing/', 'https://www.allrecipes.com/recipe/259262/acai-smoothie-bowl/', 'https://www.allrecipes.com/recipe/72381/orange-roasted-salmon/', 'https://www.allrecipes.com/recipe/199598/quinoa-with-asian-flavors/', 'https://www.allrecipes.com/recipe/256590/chorizo-spiced-party-sized-chopped-veggie-salad/', 'https://www.allrecipes.com/recipe/256584/khitchari/']\n",
      "['https://www.allrecipes.com/recipe/217013/chop-chop-salad/', 'https://www.allrecipes.com/recipe/245946/healthy-turmeric-chicken-stew/', 'https://www.allrecipes.com/recipe/260392/turkish-orange-salad-with-mediterranean-dressing/', 'https://www.allrecipes.com/recipe/259262/acai-smoothie-bowl/', 'https://www.allrecipes.com/recipe/72381/orange-roasted-salmon/', 'https://www.allrecipes.com/recipe/199598/quinoa-with-asian-flavors/', 'https://www.allrecipes.com/recipe/256590/chorizo-spiced-party-sized-chopped-veggie-salad/', 'https://www.allrecipes.com/recipe/256584/khitchari/', 'https://www.allrecipes.com/recipe/256558/hummingbird-carrot-cake-oatmeal/']\n",
      "['https://www.allrecipes.com/recipe/217013/chop-chop-salad/', 'https://www.allrecipes.com/recipe/245946/healthy-turmeric-chicken-stew/', 'https://www.allrecipes.com/recipe/260392/turkish-orange-salad-with-mediterranean-dressing/', 'https://www.allrecipes.com/recipe/259262/acai-smoothie-bowl/', 'https://www.allrecipes.com/recipe/72381/orange-roasted-salmon/', 'https://www.allrecipes.com/recipe/199598/quinoa-with-asian-flavors/', 'https://www.allrecipes.com/recipe/256590/chorizo-spiced-party-sized-chopped-veggie-salad/', 'https://www.allrecipes.com/recipe/256584/khitchari/', 'https://www.allrecipes.com/recipe/256558/hummingbird-carrot-cake-oatmeal/', 'https://www.allrecipes.com/recipe/49552/quinoa-and-black-beans/']\n",
      "['https://www.allrecipes.com/recipe/217013/chop-chop-salad/', 'https://www.allrecipes.com/recipe/245946/healthy-turmeric-chicken-stew/', 'https://www.allrecipes.com/recipe/260392/turkish-orange-salad-with-mediterranean-dressing/', 'https://www.allrecipes.com/recipe/259262/acai-smoothie-bowl/', 'https://www.allrecipes.com/recipe/72381/orange-roasted-salmon/', 'https://www.allrecipes.com/recipe/199598/quinoa-with-asian-flavors/', 'https://www.allrecipes.com/recipe/256590/chorizo-spiced-party-sized-chopped-veggie-salad/', 'https://www.allrecipes.com/recipe/256584/khitchari/', 'https://www.allrecipes.com/recipe/256558/hummingbird-carrot-cake-oatmeal/', 'https://www.allrecipes.com/recipe/49552/quinoa-and-black-beans/', 'https://www.allrecipes.com/recipe/51283/maple-salmon/']\n",
      "['https://www.allrecipes.com/recipe/217013/chop-chop-salad/', 'https://www.allrecipes.com/recipe/245946/healthy-turmeric-chicken-stew/', 'https://www.allrecipes.com/recipe/260392/turkish-orange-salad-with-mediterranean-dressing/', 'https://www.allrecipes.com/recipe/259262/acai-smoothie-bowl/', 'https://www.allrecipes.com/recipe/72381/orange-roasted-salmon/', 'https://www.allrecipes.com/recipe/199598/quinoa-with-asian-flavors/', 'https://www.allrecipes.com/recipe/256590/chorizo-spiced-party-sized-chopped-veggie-salad/', 'https://www.allrecipes.com/recipe/256584/khitchari/', 'https://www.allrecipes.com/recipe/256558/hummingbird-carrot-cake-oatmeal/', 'https://www.allrecipes.com/recipe/49552/quinoa-and-black-beans/', 'https://www.allrecipes.com/recipe/51283/maple-salmon/', 'https://www.allrecipes.com/recipe/8665/braised-balsamic-chicken/']\n",
      "['https://www.allrecipes.com/recipe/217013/chop-chop-salad/', 'https://www.allrecipes.com/recipe/245946/healthy-turmeric-chicken-stew/', 'https://www.allrecipes.com/recipe/260392/turkish-orange-salad-with-mediterranean-dressing/', 'https://www.allrecipes.com/recipe/259262/acai-smoothie-bowl/', 'https://www.allrecipes.com/recipe/72381/orange-roasted-salmon/', 'https://www.allrecipes.com/recipe/199598/quinoa-with-asian-flavors/', 'https://www.allrecipes.com/recipe/256590/chorizo-spiced-party-sized-chopped-veggie-salad/', 'https://www.allrecipes.com/recipe/256584/khitchari/', 'https://www.allrecipes.com/recipe/256558/hummingbird-carrot-cake-oatmeal/', 'https://www.allrecipes.com/recipe/49552/quinoa-and-black-beans/', 'https://www.allrecipes.com/recipe/51283/maple-salmon/', 'https://www.allrecipes.com/recipe/8665/braised-balsamic-chicken/', 'https://www.allrecipes.com/recipe/26692/annies-fruit-salsa-and-cinnamon-chips/']\n",
      "['https://www.allrecipes.com/recipe/217013/chop-chop-salad/', 'https://www.allrecipes.com/recipe/245946/healthy-turmeric-chicken-stew/', 'https://www.allrecipes.com/recipe/260392/turkish-orange-salad-with-mediterranean-dressing/', 'https://www.allrecipes.com/recipe/259262/acai-smoothie-bowl/', 'https://www.allrecipes.com/recipe/72381/orange-roasted-salmon/', 'https://www.allrecipes.com/recipe/199598/quinoa-with-asian-flavors/', 'https://www.allrecipes.com/recipe/256590/chorizo-spiced-party-sized-chopped-veggie-salad/', 'https://www.allrecipes.com/recipe/256584/khitchari/', 'https://www.allrecipes.com/recipe/256558/hummingbird-carrot-cake-oatmeal/', 'https://www.allrecipes.com/recipe/49552/quinoa-and-black-beans/', 'https://www.allrecipes.com/recipe/51283/maple-salmon/', 'https://www.allrecipes.com/recipe/8665/braised-balsamic-chicken/', 'https://www.allrecipes.com/recipe/26692/annies-fruit-salsa-and-cinnamon-chips/', 'https://www.allrecipes.com/recipe/85452/homemade-black-bean-veggie-burgers/']\n",
      "['https://www.allrecipes.com/recipe/217013/chop-chop-salad/', 'https://www.allrecipes.com/recipe/245946/healthy-turmeric-chicken-stew/', 'https://www.allrecipes.com/recipe/260392/turkish-orange-salad-with-mediterranean-dressing/', 'https://www.allrecipes.com/recipe/259262/acai-smoothie-bowl/', 'https://www.allrecipes.com/recipe/72381/orange-roasted-salmon/', 'https://www.allrecipes.com/recipe/199598/quinoa-with-asian-flavors/', 'https://www.allrecipes.com/recipe/256590/chorizo-spiced-party-sized-chopped-veggie-salad/', 'https://www.allrecipes.com/recipe/256584/khitchari/', 'https://www.allrecipes.com/recipe/256558/hummingbird-carrot-cake-oatmeal/', 'https://www.allrecipes.com/recipe/49552/quinoa-and-black-beans/', 'https://www.allrecipes.com/recipe/51283/maple-salmon/', 'https://www.allrecipes.com/recipe/8665/braised-balsamic-chicken/', 'https://www.allrecipes.com/recipe/26692/annies-fruit-salsa-and-cinnamon-chips/', 'https://www.allrecipes.com/recipe/85452/homemade-black-bean-veggie-burgers/', 'https://www.allrecipes.com/recipe/75861/amazing-pork-tenderloin-in-the-slow-cooker/']\n",
      "['https://www.allrecipes.com/recipe/217013/chop-chop-salad/', 'https://www.allrecipes.com/recipe/245946/healthy-turmeric-chicken-stew/', 'https://www.allrecipes.com/recipe/260392/turkish-orange-salad-with-mediterranean-dressing/', 'https://www.allrecipes.com/recipe/259262/acai-smoothie-bowl/', 'https://www.allrecipes.com/recipe/72381/orange-roasted-salmon/', 'https://www.allrecipes.com/recipe/199598/quinoa-with-asian-flavors/', 'https://www.allrecipes.com/recipe/256590/chorizo-spiced-party-sized-chopped-veggie-salad/', 'https://www.allrecipes.com/recipe/256584/khitchari/', 'https://www.allrecipes.com/recipe/256558/hummingbird-carrot-cake-oatmeal/', 'https://www.allrecipes.com/recipe/49552/quinoa-and-black-beans/', 'https://www.allrecipes.com/recipe/51283/maple-salmon/', 'https://www.allrecipes.com/recipe/8665/braised-balsamic-chicken/', 'https://www.allrecipes.com/recipe/26692/annies-fruit-salsa-and-cinnamon-chips/', 'https://www.allrecipes.com/recipe/85452/homemade-black-bean-veggie-burgers/', 'https://www.allrecipes.com/recipe/75861/amazing-pork-tenderloin-in-the-slow-cooker/', 'https://www.allrecipes.com/recipe/8847/baked-honey-mustard-chicken/']\n",
      "['https://www.allrecipes.com/recipe/217013/chop-chop-salad/', 'https://www.allrecipes.com/recipe/245946/healthy-turmeric-chicken-stew/', 'https://www.allrecipes.com/recipe/260392/turkish-orange-salad-with-mediterranean-dressing/', 'https://www.allrecipes.com/recipe/259262/acai-smoothie-bowl/', 'https://www.allrecipes.com/recipe/72381/orange-roasted-salmon/', 'https://www.allrecipes.com/recipe/199598/quinoa-with-asian-flavors/', 'https://www.allrecipes.com/recipe/256590/chorizo-spiced-party-sized-chopped-veggie-salad/', 'https://www.allrecipes.com/recipe/256584/khitchari/', 'https://www.allrecipes.com/recipe/256558/hummingbird-carrot-cake-oatmeal/', 'https://www.allrecipes.com/recipe/49552/quinoa-and-black-beans/', 'https://www.allrecipes.com/recipe/51283/maple-salmon/', 'https://www.allrecipes.com/recipe/8665/braised-balsamic-chicken/', 'https://www.allrecipes.com/recipe/26692/annies-fruit-salsa-and-cinnamon-chips/', 'https://www.allrecipes.com/recipe/85452/homemade-black-bean-veggie-burgers/', 'https://www.allrecipes.com/recipe/75861/amazing-pork-tenderloin-in-the-slow-cooker/', 'https://www.allrecipes.com/recipe/8847/baked-honey-mustard-chicken/', 'https://www.allrecipes.com/recipe/51301/sarahs-applesauce/']\n",
      "['https://www.allrecipes.com/recipe/217013/chop-chop-salad/', 'https://www.allrecipes.com/recipe/245946/healthy-turmeric-chicken-stew/', 'https://www.allrecipes.com/recipe/260392/turkish-orange-salad-with-mediterranean-dressing/', 'https://www.allrecipes.com/recipe/259262/acai-smoothie-bowl/', 'https://www.allrecipes.com/recipe/72381/orange-roasted-salmon/', 'https://www.allrecipes.com/recipe/199598/quinoa-with-asian-flavors/', 'https://www.allrecipes.com/recipe/256590/chorizo-spiced-party-sized-chopped-veggie-salad/', 'https://www.allrecipes.com/recipe/256584/khitchari/', 'https://www.allrecipes.com/recipe/256558/hummingbird-carrot-cake-oatmeal/', 'https://www.allrecipes.com/recipe/49552/quinoa-and-black-beans/', 'https://www.allrecipes.com/recipe/51283/maple-salmon/', 'https://www.allrecipes.com/recipe/8665/braised-balsamic-chicken/', 'https://www.allrecipes.com/recipe/26692/annies-fruit-salsa-and-cinnamon-chips/', 'https://www.allrecipes.com/recipe/85452/homemade-black-bean-veggie-burgers/', 'https://www.allrecipes.com/recipe/75861/amazing-pork-tenderloin-in-the-slow-cooker/', 'https://www.allrecipes.com/recipe/8847/baked-honey-mustard-chicken/', 'https://www.allrecipes.com/recipe/51301/sarahs-applesauce/', 'https://www.allrecipes.com/recipe/13978/lentil-soup/']\n",
      "['https://www.allrecipes.com/recipe/217013/chop-chop-salad/', 'https://www.allrecipes.com/recipe/245946/healthy-turmeric-chicken-stew/', 'https://www.allrecipes.com/recipe/260392/turkish-orange-salad-with-mediterranean-dressing/', 'https://www.allrecipes.com/recipe/259262/acai-smoothie-bowl/', 'https://www.allrecipes.com/recipe/72381/orange-roasted-salmon/', 'https://www.allrecipes.com/recipe/199598/quinoa-with-asian-flavors/', 'https://www.allrecipes.com/recipe/256590/chorizo-spiced-party-sized-chopped-veggie-salad/', 'https://www.allrecipes.com/recipe/256584/khitchari/', 'https://www.allrecipes.com/recipe/256558/hummingbird-carrot-cake-oatmeal/', 'https://www.allrecipes.com/recipe/49552/quinoa-and-black-beans/', 'https://www.allrecipes.com/recipe/51283/maple-salmon/', 'https://www.allrecipes.com/recipe/8665/braised-balsamic-chicken/', 'https://www.allrecipes.com/recipe/26692/annies-fruit-salsa-and-cinnamon-chips/', 'https://www.allrecipes.com/recipe/85452/homemade-black-bean-veggie-burgers/', 'https://www.allrecipes.com/recipe/75861/amazing-pork-tenderloin-in-the-slow-cooker/', 'https://www.allrecipes.com/recipe/8847/baked-honey-mustard-chicken/', 'https://www.allrecipes.com/recipe/51301/sarahs-applesauce/', 'https://www.allrecipes.com/recipe/13978/lentil-soup/', 'https://www.allrecipes.com/recipe/17319/exquisite-pizza-sauce/']\n",
      "['https://www.allrecipes.com/recipe/217013/chop-chop-salad/', 'https://www.allrecipes.com/recipe/245946/healthy-turmeric-chicken-stew/', 'https://www.allrecipes.com/recipe/260392/turkish-orange-salad-with-mediterranean-dressing/', 'https://www.allrecipes.com/recipe/259262/acai-smoothie-bowl/', 'https://www.allrecipes.com/recipe/72381/orange-roasted-salmon/', 'https://www.allrecipes.com/recipe/199598/quinoa-with-asian-flavors/', 'https://www.allrecipes.com/recipe/256590/chorizo-spiced-party-sized-chopped-veggie-salad/', 'https://www.allrecipes.com/recipe/256584/khitchari/', 'https://www.allrecipes.com/recipe/256558/hummingbird-carrot-cake-oatmeal/', 'https://www.allrecipes.com/recipe/49552/quinoa-and-black-beans/', 'https://www.allrecipes.com/recipe/51283/maple-salmon/', 'https://www.allrecipes.com/recipe/8665/braised-balsamic-chicken/', 'https://www.allrecipes.com/recipe/26692/annies-fruit-salsa-and-cinnamon-chips/', 'https://www.allrecipes.com/recipe/85452/homemade-black-bean-veggie-burgers/', 'https://www.allrecipes.com/recipe/75861/amazing-pork-tenderloin-in-the-slow-cooker/', 'https://www.allrecipes.com/recipe/8847/baked-honey-mustard-chicken/', 'https://www.allrecipes.com/recipe/51301/sarahs-applesauce/', 'https://www.allrecipes.com/recipe/13978/lentil-soup/', 'https://www.allrecipes.com/recipe/17319/exquisite-pizza-sauce/', 'https://www.allrecipes.com/recipe/45833/ginger-glazed-mahi-mahi/']\n",
      "['https://www.allrecipes.com/recipe/217013/chop-chop-salad/', 'https://www.allrecipes.com/recipe/245946/healthy-turmeric-chicken-stew/', 'https://www.allrecipes.com/recipe/260392/turkish-orange-salad-with-mediterranean-dressing/', 'https://www.allrecipes.com/recipe/259262/acai-smoothie-bowl/', 'https://www.allrecipes.com/recipe/72381/orange-roasted-salmon/', 'https://www.allrecipes.com/recipe/199598/quinoa-with-asian-flavors/', 'https://www.allrecipes.com/recipe/256590/chorizo-spiced-party-sized-chopped-veggie-salad/', 'https://www.allrecipes.com/recipe/256584/khitchari/', 'https://www.allrecipes.com/recipe/256558/hummingbird-carrot-cake-oatmeal/', 'https://www.allrecipes.com/recipe/49552/quinoa-and-black-beans/', 'https://www.allrecipes.com/recipe/51283/maple-salmon/', 'https://www.allrecipes.com/recipe/8665/braised-balsamic-chicken/', 'https://www.allrecipes.com/recipe/26692/annies-fruit-salsa-and-cinnamon-chips/', 'https://www.allrecipes.com/recipe/85452/homemade-black-bean-veggie-burgers/', 'https://www.allrecipes.com/recipe/75861/amazing-pork-tenderloin-in-the-slow-cooker/', 'https://www.allrecipes.com/recipe/8847/baked-honey-mustard-chicken/', 'https://www.allrecipes.com/recipe/51301/sarahs-applesauce/', 'https://www.allrecipes.com/recipe/13978/lentil-soup/', 'https://www.allrecipes.com/recipe/17319/exquisite-pizza-sauce/', 'https://www.allrecipes.com/recipe/45833/ginger-glazed-mahi-mahi/', 'https://www.allrecipes.com/recipe/53729/fish-tacos/']\n",
      "['https://www.allrecipes.com/recipe/217013/chop-chop-salad/', 'https://www.allrecipes.com/recipe/245946/healthy-turmeric-chicken-stew/', 'https://www.allrecipes.com/recipe/260392/turkish-orange-salad-with-mediterranean-dressing/', 'https://www.allrecipes.com/recipe/259262/acai-smoothie-bowl/', 'https://www.allrecipes.com/recipe/72381/orange-roasted-salmon/', 'https://www.allrecipes.com/recipe/199598/quinoa-with-asian-flavors/', 'https://www.allrecipes.com/recipe/256590/chorizo-spiced-party-sized-chopped-veggie-salad/', 'https://www.allrecipes.com/recipe/256584/khitchari/', 'https://www.allrecipes.com/recipe/256558/hummingbird-carrot-cake-oatmeal/', 'https://www.allrecipes.com/recipe/49552/quinoa-and-black-beans/', 'https://www.allrecipes.com/recipe/51283/maple-salmon/', 'https://www.allrecipes.com/recipe/8665/braised-balsamic-chicken/', 'https://www.allrecipes.com/recipe/26692/annies-fruit-salsa-and-cinnamon-chips/', 'https://www.allrecipes.com/recipe/85452/homemade-black-bean-veggie-burgers/', 'https://www.allrecipes.com/recipe/75861/amazing-pork-tenderloin-in-the-slow-cooker/', 'https://www.allrecipes.com/recipe/8847/baked-honey-mustard-chicken/', 'https://www.allrecipes.com/recipe/51301/sarahs-applesauce/', 'https://www.allrecipes.com/recipe/13978/lentil-soup/', 'https://www.allrecipes.com/recipe/17319/exquisite-pizza-sauce/', 'https://www.allrecipes.com/recipe/45833/ginger-glazed-mahi-mahi/', 'https://www.allrecipes.com/recipe/53729/fish-tacos/', 'https://www.allrecipes.com/recipe/70312/refried-beans-without-the-refry/']\n",
      "['https://www.allrecipes.com/recipe/217013/chop-chop-salad/', 'https://www.allrecipes.com/recipe/245946/healthy-turmeric-chicken-stew/', 'https://www.allrecipes.com/recipe/260392/turkish-orange-salad-with-mediterranean-dressing/', 'https://www.allrecipes.com/recipe/259262/acai-smoothie-bowl/', 'https://www.allrecipes.com/recipe/72381/orange-roasted-salmon/', 'https://www.allrecipes.com/recipe/199598/quinoa-with-asian-flavors/', 'https://www.allrecipes.com/recipe/256590/chorizo-spiced-party-sized-chopped-veggie-salad/', 'https://www.allrecipes.com/recipe/256584/khitchari/', 'https://www.allrecipes.com/recipe/256558/hummingbird-carrot-cake-oatmeal/', 'https://www.allrecipes.com/recipe/49552/quinoa-and-black-beans/', 'https://www.allrecipes.com/recipe/51283/maple-salmon/', 'https://www.allrecipes.com/recipe/8665/braised-balsamic-chicken/', 'https://www.allrecipes.com/recipe/26692/annies-fruit-salsa-and-cinnamon-chips/', 'https://www.allrecipes.com/recipe/85452/homemade-black-bean-veggie-burgers/', 'https://www.allrecipes.com/recipe/75861/amazing-pork-tenderloin-in-the-slow-cooker/', 'https://www.allrecipes.com/recipe/8847/baked-honey-mustard-chicken/', 'https://www.allrecipes.com/recipe/51301/sarahs-applesauce/', 'https://www.allrecipes.com/recipe/13978/lentil-soup/', 'https://www.allrecipes.com/recipe/17319/exquisite-pizza-sauce/', 'https://www.allrecipes.com/recipe/45833/ginger-glazed-mahi-mahi/', 'https://www.allrecipes.com/recipe/53729/fish-tacos/', 'https://www.allrecipes.com/recipe/70312/refried-beans-without-the-refry/', 'https://www.allrecipes.com/recipe/176957/baked-kale-chips/']\n",
      "['https://www.allrecipes.com/recipe/217013/chop-chop-salad/', 'https://www.allrecipes.com/recipe/245946/healthy-turmeric-chicken-stew/', 'https://www.allrecipes.com/recipe/260392/turkish-orange-salad-with-mediterranean-dressing/', 'https://www.allrecipes.com/recipe/259262/acai-smoothie-bowl/', 'https://www.allrecipes.com/recipe/72381/orange-roasted-salmon/', 'https://www.allrecipes.com/recipe/199598/quinoa-with-asian-flavors/', 'https://www.allrecipes.com/recipe/256590/chorizo-spiced-party-sized-chopped-veggie-salad/', 'https://www.allrecipes.com/recipe/256584/khitchari/', 'https://www.allrecipes.com/recipe/256558/hummingbird-carrot-cake-oatmeal/', 'https://www.allrecipes.com/recipe/49552/quinoa-and-black-beans/', 'https://www.allrecipes.com/recipe/51283/maple-salmon/', 'https://www.allrecipes.com/recipe/8665/braised-balsamic-chicken/', 'https://www.allrecipes.com/recipe/26692/annies-fruit-salsa-and-cinnamon-chips/', 'https://www.allrecipes.com/recipe/85452/homemade-black-bean-veggie-burgers/', 'https://www.allrecipes.com/recipe/75861/amazing-pork-tenderloin-in-the-slow-cooker/', 'https://www.allrecipes.com/recipe/8847/baked-honey-mustard-chicken/', 'https://www.allrecipes.com/recipe/51301/sarahs-applesauce/', 'https://www.allrecipes.com/recipe/13978/lentil-soup/', 'https://www.allrecipes.com/recipe/17319/exquisite-pizza-sauce/', 'https://www.allrecipes.com/recipe/45833/ginger-glazed-mahi-mahi/', 'https://www.allrecipes.com/recipe/53729/fish-tacos/', 'https://www.allrecipes.com/recipe/70312/refried-beans-without-the-refry/', 'https://www.allrecipes.com/recipe/176957/baked-kale-chips/', 'https://www.allrecipes.com/recipe/9377/roasted-vegetables/']\n",
      "['https://www.allrecipes.com/recipe/217013/chop-chop-salad/', 'https://www.allrecipes.com/recipe/245946/healthy-turmeric-chicken-stew/', 'https://www.allrecipes.com/recipe/260392/turkish-orange-salad-with-mediterranean-dressing/', 'https://www.allrecipes.com/recipe/259262/acai-smoothie-bowl/', 'https://www.allrecipes.com/recipe/72381/orange-roasted-salmon/', 'https://www.allrecipes.com/recipe/199598/quinoa-with-asian-flavors/', 'https://www.allrecipes.com/recipe/256590/chorizo-spiced-party-sized-chopped-veggie-salad/', 'https://www.allrecipes.com/recipe/256584/khitchari/', 'https://www.allrecipes.com/recipe/256558/hummingbird-carrot-cake-oatmeal/', 'https://www.allrecipes.com/recipe/49552/quinoa-and-black-beans/', 'https://www.allrecipes.com/recipe/51283/maple-salmon/', 'https://www.allrecipes.com/recipe/8665/braised-balsamic-chicken/', 'https://www.allrecipes.com/recipe/26692/annies-fruit-salsa-and-cinnamon-chips/', 'https://www.allrecipes.com/recipe/85452/homemade-black-bean-veggie-burgers/', 'https://www.allrecipes.com/recipe/75861/amazing-pork-tenderloin-in-the-slow-cooker/', 'https://www.allrecipes.com/recipe/8847/baked-honey-mustard-chicken/', 'https://www.allrecipes.com/recipe/51301/sarahs-applesauce/', 'https://www.allrecipes.com/recipe/13978/lentil-soup/', 'https://www.allrecipes.com/recipe/17319/exquisite-pizza-sauce/', 'https://www.allrecipes.com/recipe/45833/ginger-glazed-mahi-mahi/', 'https://www.allrecipes.com/recipe/53729/fish-tacos/', 'https://www.allrecipes.com/recipe/70312/refried-beans-without-the-refry/', 'https://www.allrecipes.com/recipe/176957/baked-kale-chips/', 'https://www.allrecipes.com/recipe/9377/roasted-vegetables/', 'https://www.allrecipes.com/recipe/30522/unbelievable-chicken/']\n",
      "['https://www.allrecipes.com/recipe/217013/chop-chop-salad/', 'https://www.allrecipes.com/recipe/245946/healthy-turmeric-chicken-stew/', 'https://www.allrecipes.com/recipe/260392/turkish-orange-salad-with-mediterranean-dressing/', 'https://www.allrecipes.com/recipe/259262/acai-smoothie-bowl/', 'https://www.allrecipes.com/recipe/72381/orange-roasted-salmon/', 'https://www.allrecipes.com/recipe/199598/quinoa-with-asian-flavors/', 'https://www.allrecipes.com/recipe/256590/chorizo-spiced-party-sized-chopped-veggie-salad/', 'https://www.allrecipes.com/recipe/256584/khitchari/', 'https://www.allrecipes.com/recipe/256558/hummingbird-carrot-cake-oatmeal/', 'https://www.allrecipes.com/recipe/49552/quinoa-and-black-beans/', 'https://www.allrecipes.com/recipe/51283/maple-salmon/', 'https://www.allrecipes.com/recipe/8665/braised-balsamic-chicken/', 'https://www.allrecipes.com/recipe/26692/annies-fruit-salsa-and-cinnamon-chips/', 'https://www.allrecipes.com/recipe/85452/homemade-black-bean-veggie-burgers/', 'https://www.allrecipes.com/recipe/75861/amazing-pork-tenderloin-in-the-slow-cooker/', 'https://www.allrecipes.com/recipe/8847/baked-honey-mustard-chicken/', 'https://www.allrecipes.com/recipe/51301/sarahs-applesauce/', 'https://www.allrecipes.com/recipe/13978/lentil-soup/', 'https://www.allrecipes.com/recipe/17319/exquisite-pizza-sauce/', 'https://www.allrecipes.com/recipe/45833/ginger-glazed-mahi-mahi/', 'https://www.allrecipes.com/recipe/53729/fish-tacos/', 'https://www.allrecipes.com/recipe/70312/refried-beans-without-the-refry/', 'https://www.allrecipes.com/recipe/176957/baked-kale-chips/', 'https://www.allrecipes.com/recipe/9377/roasted-vegetables/', 'https://www.allrecipes.com/recipe/30522/unbelievable-chicken/', 'https://www.allrecipes.com/recipe/6773/simple-whole-wheat-bread/']\n",
      "['https://www.allrecipes.com/recipe/217013/chop-chop-salad/', 'https://www.allrecipes.com/recipe/245946/healthy-turmeric-chicken-stew/', 'https://www.allrecipes.com/recipe/260392/turkish-orange-salad-with-mediterranean-dressing/', 'https://www.allrecipes.com/recipe/259262/acai-smoothie-bowl/', 'https://www.allrecipes.com/recipe/72381/orange-roasted-salmon/', 'https://www.allrecipes.com/recipe/199598/quinoa-with-asian-flavors/', 'https://www.allrecipes.com/recipe/256590/chorizo-spiced-party-sized-chopped-veggie-salad/', 'https://www.allrecipes.com/recipe/256584/khitchari/', 'https://www.allrecipes.com/recipe/256558/hummingbird-carrot-cake-oatmeal/', 'https://www.allrecipes.com/recipe/49552/quinoa-and-black-beans/', 'https://www.allrecipes.com/recipe/51283/maple-salmon/', 'https://www.allrecipes.com/recipe/8665/braised-balsamic-chicken/', 'https://www.allrecipes.com/recipe/26692/annies-fruit-salsa-and-cinnamon-chips/', 'https://www.allrecipes.com/recipe/85452/homemade-black-bean-veggie-burgers/', 'https://www.allrecipes.com/recipe/75861/amazing-pork-tenderloin-in-the-slow-cooker/', 'https://www.allrecipes.com/recipe/8847/baked-honey-mustard-chicken/', 'https://www.allrecipes.com/recipe/51301/sarahs-applesauce/', 'https://www.allrecipes.com/recipe/13978/lentil-soup/', 'https://www.allrecipes.com/recipe/17319/exquisite-pizza-sauce/', 'https://www.allrecipes.com/recipe/45833/ginger-glazed-mahi-mahi/', 'https://www.allrecipes.com/recipe/53729/fish-tacos/', 'https://www.allrecipes.com/recipe/70312/refried-beans-without-the-refry/', 'https://www.allrecipes.com/recipe/176957/baked-kale-chips/', 'https://www.allrecipes.com/recipe/9377/roasted-vegetables/', 'https://www.allrecipes.com/recipe/30522/unbelievable-chicken/', 'https://www.allrecipes.com/recipe/6773/simple-whole-wheat-bread/', 'https://www.allrecipes.com/recipe/19766/six-can-chicken-tortilla-soup/']\n",
      "['https://www.allrecipes.com/recipe/217013/chop-chop-salad/', 'https://www.allrecipes.com/recipe/245946/healthy-turmeric-chicken-stew/', 'https://www.allrecipes.com/recipe/260392/turkish-orange-salad-with-mediterranean-dressing/', 'https://www.allrecipes.com/recipe/259262/acai-smoothie-bowl/', 'https://www.allrecipes.com/recipe/72381/orange-roasted-salmon/', 'https://www.allrecipes.com/recipe/199598/quinoa-with-asian-flavors/', 'https://www.allrecipes.com/recipe/256590/chorizo-spiced-party-sized-chopped-veggie-salad/', 'https://www.allrecipes.com/recipe/256584/khitchari/', 'https://www.allrecipes.com/recipe/256558/hummingbird-carrot-cake-oatmeal/', 'https://www.allrecipes.com/recipe/49552/quinoa-and-black-beans/', 'https://www.allrecipes.com/recipe/51283/maple-salmon/', 'https://www.allrecipes.com/recipe/8665/braised-balsamic-chicken/', 'https://www.allrecipes.com/recipe/26692/annies-fruit-salsa-and-cinnamon-chips/', 'https://www.allrecipes.com/recipe/85452/homemade-black-bean-veggie-burgers/', 'https://www.allrecipes.com/recipe/75861/amazing-pork-tenderloin-in-the-slow-cooker/', 'https://www.allrecipes.com/recipe/8847/baked-honey-mustard-chicken/', 'https://www.allrecipes.com/recipe/51301/sarahs-applesauce/', 'https://www.allrecipes.com/recipe/13978/lentil-soup/', 'https://www.allrecipes.com/recipe/17319/exquisite-pizza-sauce/', 'https://www.allrecipes.com/recipe/45833/ginger-glazed-mahi-mahi/', 'https://www.allrecipes.com/recipe/53729/fish-tacos/', 'https://www.allrecipes.com/recipe/70312/refried-beans-without-the-refry/', 'https://www.allrecipes.com/recipe/176957/baked-kale-chips/', 'https://www.allrecipes.com/recipe/9377/roasted-vegetables/', 'https://www.allrecipes.com/recipe/30522/unbelievable-chicken/', 'https://www.allrecipes.com/recipe/6773/simple-whole-wheat-bread/', 'https://www.allrecipes.com/recipe/19766/six-can-chicken-tortilla-soup/', 'https://www.allrecipes.com/recipe/80969/simple-turkey-chili/']\n",
      "['https://www.allrecipes.com/recipe/217013/chop-chop-salad/', 'https://www.allrecipes.com/recipe/245946/healthy-turmeric-chicken-stew/', 'https://www.allrecipes.com/recipe/260392/turkish-orange-salad-with-mediterranean-dressing/', 'https://www.allrecipes.com/recipe/259262/acai-smoothie-bowl/', 'https://www.allrecipes.com/recipe/72381/orange-roasted-salmon/', 'https://www.allrecipes.com/recipe/199598/quinoa-with-asian-flavors/', 'https://www.allrecipes.com/recipe/256590/chorizo-spiced-party-sized-chopped-veggie-salad/', 'https://www.allrecipes.com/recipe/256584/khitchari/', 'https://www.allrecipes.com/recipe/256558/hummingbird-carrot-cake-oatmeal/', 'https://www.allrecipes.com/recipe/49552/quinoa-and-black-beans/', 'https://www.allrecipes.com/recipe/51283/maple-salmon/', 'https://www.allrecipes.com/recipe/8665/braised-balsamic-chicken/', 'https://www.allrecipes.com/recipe/26692/annies-fruit-salsa-and-cinnamon-chips/', 'https://www.allrecipes.com/recipe/85452/homemade-black-bean-veggie-burgers/', 'https://www.allrecipes.com/recipe/75861/amazing-pork-tenderloin-in-the-slow-cooker/', 'https://www.allrecipes.com/recipe/8847/baked-honey-mustard-chicken/', 'https://www.allrecipes.com/recipe/51301/sarahs-applesauce/', 'https://www.allrecipes.com/recipe/13978/lentil-soup/', 'https://www.allrecipes.com/recipe/17319/exquisite-pizza-sauce/', 'https://www.allrecipes.com/recipe/45833/ginger-glazed-mahi-mahi/', 'https://www.allrecipes.com/recipe/53729/fish-tacos/', 'https://www.allrecipes.com/recipe/70312/refried-beans-without-the-refry/', 'https://www.allrecipes.com/recipe/176957/baked-kale-chips/', 'https://www.allrecipes.com/recipe/9377/roasted-vegetables/', 'https://www.allrecipes.com/recipe/30522/unbelievable-chicken/', 'https://www.allrecipes.com/recipe/6773/simple-whole-wheat-bread/', 'https://www.allrecipes.com/recipe/19766/six-can-chicken-tortilla-soup/', 'https://www.allrecipes.com/recipe/80969/simple-turkey-chili/', 'https://www.allrecipes.com/recipe/14132/black-bean-and-salsa-soup/']\n"
     ]
    }
   ],
   "source": [
    "# Examine the results, then determine element that contains sought info\n",
    "# results are returned as an iterable list\n",
    "results = soup.find_all(class_=\"fixed-recipe-card\")\n",
    "#x=result.find('a',attrs={\"title\"})\n",
    "# Loop through returned results\n",
    "\n",
    "list_url=[]\n",
    "for (result) in results:\n",
    "    # Error handling\n",
    "    try:\n",
    "        # Identify and return title of listing\n",
    "        #title = result.find('a',attrs={\"title\"})\n",
    "        #get_val = val[\"title\"]\n",
    "        link = result.a['href']\n",
    "       \n",
    "        # Run only if title, price, and link are available\n",
    "        if (link):\n",
    "            # Print results\n",
    "            list_url.append(link)\n",
    "            print(list_url)\n",
    "            \n",
    "\n",
    "           \n",
    "    except Exception as e:\n",
    "        print(e)\n",
    "        \n"
   ]
  },
  {
   "cell_type": "code",
   "execution_count": 27,
   "metadata": {},
   "outputs": [
    {
     "data": {
      "text/plain": [
       "['https://www.allrecipes.com/recipe/217013/chop-chop-salad/',\n",
       " 'https://www.allrecipes.com/recipe/245946/healthy-turmeric-chicken-stew/',\n",
       " 'https://www.allrecipes.com/recipe/260392/turkish-orange-salad-with-mediterranean-dressing/',\n",
       " 'https://www.allrecipes.com/recipe/259262/acai-smoothie-bowl/',\n",
       " 'https://www.allrecipes.com/recipe/72381/orange-roasted-salmon/',\n",
       " 'https://www.allrecipes.com/recipe/199598/quinoa-with-asian-flavors/',\n",
       " 'https://www.allrecipes.com/recipe/256590/chorizo-spiced-party-sized-chopped-veggie-salad/',\n",
       " 'https://www.allrecipes.com/recipe/256584/khitchari/',\n",
       " 'https://www.allrecipes.com/recipe/256558/hummingbird-carrot-cake-oatmeal/',\n",
       " 'https://www.allrecipes.com/recipe/49552/quinoa-and-black-beans/',\n",
       " 'https://www.allrecipes.com/recipe/51283/maple-salmon/',\n",
       " 'https://www.allrecipes.com/recipe/8665/braised-balsamic-chicken/',\n",
       " 'https://www.allrecipes.com/recipe/26692/annies-fruit-salsa-and-cinnamon-chips/',\n",
       " 'https://www.allrecipes.com/recipe/85452/homemade-black-bean-veggie-burgers/',\n",
       " 'https://www.allrecipes.com/recipe/75861/amazing-pork-tenderloin-in-the-slow-cooker/',\n",
       " 'https://www.allrecipes.com/recipe/8847/baked-honey-mustard-chicken/',\n",
       " 'https://www.allrecipes.com/recipe/51301/sarahs-applesauce/',\n",
       " 'https://www.allrecipes.com/recipe/13978/lentil-soup/',\n",
       " 'https://www.allrecipes.com/recipe/17319/exquisite-pizza-sauce/',\n",
       " 'https://www.allrecipes.com/recipe/45833/ginger-glazed-mahi-mahi/',\n",
       " 'https://www.allrecipes.com/recipe/53729/fish-tacos/',\n",
       " 'https://www.allrecipes.com/recipe/70312/refried-beans-without-the-refry/',\n",
       " 'https://www.allrecipes.com/recipe/176957/baked-kale-chips/',\n",
       " 'https://www.allrecipes.com/recipe/9377/roasted-vegetables/',\n",
       " 'https://www.allrecipes.com/recipe/30522/unbelievable-chicken/',\n",
       " 'https://www.allrecipes.com/recipe/6773/simple-whole-wheat-bread/',\n",
       " 'https://www.allrecipes.com/recipe/19766/six-can-chicken-tortilla-soup/',\n",
       " 'https://www.allrecipes.com/recipe/80969/simple-turkey-chili/',\n",
       " 'https://www.allrecipes.com/recipe/14132/black-bean-and-salsa-soup/']"
      ]
     },
     "execution_count": 27,
     "metadata": {},
     "output_type": "execute_result"
    }
   ],
   "source": [
    "list_url"
   ]
  },
  {
   "cell_type": "code",
   "execution_count": 32,
   "metadata": {},
   "outputs": [
    {
     "ename": "WebDriverException",
     "evalue": "Message: 'chromedriver' executable needs to be in PATH. Please see https://sites.google.com/a/chromium.org/chromedriver/home\n",
     "output_type": "error",
     "traceback": [
      "\u001b[1;31m---------------------------------------------------------------------------\u001b[0m",
      "\u001b[1;31mFileNotFoundError\u001b[0m                         Traceback (most recent call last)",
      "\u001b[1;32m~\\Anaconda3\\lib\\site-packages\\selenium\\webdriver\\common\\service.py\u001b[0m in \u001b[0;36mstart\u001b[1;34m(self)\u001b[0m\n\u001b[0;32m     75\u001b[0m                                             \u001b[0mstderr\u001b[0m\u001b[1;33m=\u001b[0m\u001b[0mself\u001b[0m\u001b[1;33m.\u001b[0m\u001b[0mlog_file\u001b[0m\u001b[1;33m,\u001b[0m\u001b[1;33m\u001b[0m\u001b[1;33m\u001b[0m\u001b[0m\n\u001b[1;32m---> 76\u001b[1;33m                                             stdin=PIPE)\n\u001b[0m\u001b[0;32m     77\u001b[0m         \u001b[1;32mexcept\u001b[0m \u001b[0mTypeError\u001b[0m\u001b[1;33m:\u001b[0m\u001b[1;33m\u001b[0m\u001b[1;33m\u001b[0m\u001b[0m\n",
      "\u001b[1;32m~\\Anaconda3\\lib\\subprocess.py\u001b[0m in \u001b[0;36m__init__\u001b[1;34m(self, args, bufsize, executable, stdin, stdout, stderr, preexec_fn, close_fds, shell, cwd, env, universal_newlines, startupinfo, creationflags, restore_signals, start_new_session, pass_fds, encoding, errors, text)\u001b[0m\n\u001b[0;32m    768\u001b[0m                                 \u001b[0merrread\u001b[0m\u001b[1;33m,\u001b[0m \u001b[0merrwrite\u001b[0m\u001b[1;33m,\u001b[0m\u001b[1;33m\u001b[0m\u001b[1;33m\u001b[0m\u001b[0m\n\u001b[1;32m--> 769\u001b[1;33m                                 restore_signals, start_new_session)\n\u001b[0m\u001b[0;32m    770\u001b[0m         \u001b[1;32mexcept\u001b[0m\u001b[1;33m:\u001b[0m\u001b[1;33m\u001b[0m\u001b[1;33m\u001b[0m\u001b[0m\n",
      "\u001b[1;32m~\\Anaconda3\\lib\\subprocess.py\u001b[0m in \u001b[0;36m_execute_child\u001b[1;34m(self, args, executable, preexec_fn, close_fds, pass_fds, cwd, env, startupinfo, creationflags, shell, p2cread, p2cwrite, c2pread, c2pwrite, errread, errwrite, unused_restore_signals, unused_start_new_session)\u001b[0m\n\u001b[0;32m   1171\u001b[0m                                          \u001b[0mos\u001b[0m\u001b[1;33m.\u001b[0m\u001b[0mfspath\u001b[0m\u001b[1;33m(\u001b[0m\u001b[0mcwd\u001b[0m\u001b[1;33m)\u001b[0m \u001b[1;32mif\u001b[0m \u001b[0mcwd\u001b[0m \u001b[1;32mis\u001b[0m \u001b[1;32mnot\u001b[0m \u001b[1;32mNone\u001b[0m \u001b[1;32melse\u001b[0m \u001b[1;32mNone\u001b[0m\u001b[1;33m,\u001b[0m\u001b[1;33m\u001b[0m\u001b[1;33m\u001b[0m\u001b[0m\n\u001b[1;32m-> 1172\u001b[1;33m                                          startupinfo)\n\u001b[0m\u001b[0;32m   1173\u001b[0m             \u001b[1;32mfinally\u001b[0m\u001b[1;33m:\u001b[0m\u001b[1;33m\u001b[0m\u001b[1;33m\u001b[0m\u001b[0m\n",
      "\u001b[1;31mFileNotFoundError\u001b[0m: [WinError 2] The system cannot find the file specified",
      "\nDuring handling of the above exception, another exception occurred:\n",
      "\u001b[1;31mWebDriverException\u001b[0m                        Traceback (most recent call last)",
      "\u001b[1;32m<ipython-input-32-0a0212ea45cf>\u001b[0m in \u001b[0;36m<module>\u001b[1;34m\u001b[0m\n\u001b[0;32m      1\u001b[0m \u001b[1;33m\u001b[0m\u001b[0m\n\u001b[0;32m      2\u001b[0m \u001b[1;33m\u001b[0m\u001b[0m\n\u001b[1;32m----> 3\u001b[1;33m \u001b[0mbrowser\u001b[0m \u001b[1;33m=\u001b[0m \u001b[0mwebdriver\u001b[0m\u001b[1;33m.\u001b[0m\u001b[0mChrome\u001b[0m\u001b[1;33m(\u001b[0m\u001b[1;33m)\u001b[0m \u001b[1;31m#opens Firefox browser\u001b[0m\u001b[1;33m\u001b[0m\u001b[1;33m\u001b[0m\u001b[0m\n\u001b[0m\u001b[0;32m      4\u001b[0m \u001b[1;33m\u001b[0m\u001b[0m\n\u001b[0;32m      5\u001b[0m \u001b[1;32mfor\u001b[0m \u001b[0mi\u001b[0m \u001b[1;32min\u001b[0m \u001b[1;33m(\u001b[0m\u001b[0mlist_url\u001b[0m\u001b[1;33m)\u001b[0m\u001b[1;33m:\u001b[0m\u001b[1;33m\u001b[0m\u001b[1;33m\u001b[0m\u001b[0m\n",
      "\u001b[1;32m~\\Anaconda3\\lib\\site-packages\\selenium\\webdriver\\chrome\\webdriver.py\u001b[0m in \u001b[0;36m__init__\u001b[1;34m(self, executable_path, port, options, service_args, desired_capabilities, service_log_path, chrome_options, keep_alive)\u001b[0m\n\u001b[0;32m     71\u001b[0m             \u001b[0mservice_args\u001b[0m\u001b[1;33m=\u001b[0m\u001b[0mservice_args\u001b[0m\u001b[1;33m,\u001b[0m\u001b[1;33m\u001b[0m\u001b[1;33m\u001b[0m\u001b[0m\n\u001b[0;32m     72\u001b[0m             log_path=service_log_path)\n\u001b[1;32m---> 73\u001b[1;33m         \u001b[0mself\u001b[0m\u001b[1;33m.\u001b[0m\u001b[0mservice\u001b[0m\u001b[1;33m.\u001b[0m\u001b[0mstart\u001b[0m\u001b[1;33m(\u001b[0m\u001b[1;33m)\u001b[0m\u001b[1;33m\u001b[0m\u001b[1;33m\u001b[0m\u001b[0m\n\u001b[0m\u001b[0;32m     74\u001b[0m \u001b[1;33m\u001b[0m\u001b[0m\n\u001b[0;32m     75\u001b[0m         \u001b[1;32mtry\u001b[0m\u001b[1;33m:\u001b[0m\u001b[1;33m\u001b[0m\u001b[1;33m\u001b[0m\u001b[0m\n",
      "\u001b[1;32m~\\Anaconda3\\lib\\site-packages\\selenium\\webdriver\\common\\service.py\u001b[0m in \u001b[0;36mstart\u001b[1;34m(self)\u001b[0m\n\u001b[0;32m     81\u001b[0m                 raise WebDriverException(\n\u001b[0;32m     82\u001b[0m                     \"'%s' executable needs to be in PATH. %s\" % (\n\u001b[1;32m---> 83\u001b[1;33m                         os.path.basename(self.path), self.start_error_message)\n\u001b[0m\u001b[0;32m     84\u001b[0m                 )\n\u001b[0;32m     85\u001b[0m             \u001b[1;32melif\u001b[0m \u001b[0merr\u001b[0m\u001b[1;33m.\u001b[0m\u001b[0merrno\u001b[0m \u001b[1;33m==\u001b[0m \u001b[0merrno\u001b[0m\u001b[1;33m.\u001b[0m\u001b[0mEACCES\u001b[0m\u001b[1;33m:\u001b[0m\u001b[1;33m\u001b[0m\u001b[1;33m\u001b[0m\u001b[0m\n",
      "\u001b[1;31mWebDriverException\u001b[0m: Message: 'chromedriver' executable needs to be in PATH. Please see https://sites.google.com/a/chromium.org/chromedriver/home\n"
     ]
    }
   ],
   "source": [
    "\n",
    "    \n",
    "browser = webdriver.Chrome() #opens Firefox browser \n",
    "   \n",
    "for i in (list_url):\n",
    "    print(i)\n",
    "    getUrl = browser.get(i)\n",
    "    time.sleep(3)\n",
    "    driver.implicitly_wait(3)\n",
    "    \n",
    "    try:\n",
    "        rtitle = br.find_element_by_tag_name('h1').text\n",
    "    except:\n",
    "        rtitle = 'NA'\n",
    "    print (rtitle)\n",
    "\n",
    "\n",
    "\n",
    "\n",
    "#opens browser and initalizes MongoDB\n"
   ]
  },
  {
   "cell_type": "code",
   "execution_count": null,
   "metadata": {},
   "outputs": [],
   "source": []
  }
 ],
 "metadata": {
  "kernelspec": {
   "display_name": "Python 3",
   "language": "python",
   "name": "python3"
  },
  "language_info": {
   "codemirror_mode": {
    "name": "ipython",
    "version": 3
   },
   "file_extension": ".py",
   "mimetype": "text/x-python",
   "name": "python",
   "nbconvert_exporter": "python",
   "pygments_lexer": "ipython3",
   "version": "3.7.1"
  },
  "varInspector": {
   "cols": {
    "lenName": 16,
    "lenType": 16,
    "lenVar": 40
   },
   "kernels_config": {
    "python": {
     "delete_cmd_postfix": "",
     "delete_cmd_prefix": "del ",
     "library": "var_list.py",
     "varRefreshCmd": "print(var_dic_list())"
    },
    "r": {
     "delete_cmd_postfix": ") ",
     "delete_cmd_prefix": "rm(",
     "library": "var_list.r",
     "varRefreshCmd": "cat(var_dic_list()) "
    }
   },
   "types_to_exclude": [
    "module",
    "function",
    "builtin_function_or_method",
    "instance",
    "_Feature"
   ],
   "window_display": false
  }
 },
 "nbformat": 4,
 "nbformat_minor": 2
}
