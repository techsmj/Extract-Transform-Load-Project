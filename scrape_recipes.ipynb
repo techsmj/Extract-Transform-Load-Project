{
 "cells": [
  {
   "cell_type": "code",
   "execution_count": null,
   "metadata": {},
   "outputs": [
    {
     "name": "stdout",
     "output_type": "stream",
     "text": [
      "Baked Chicken with Peaches ['8 skinless, boneless chicken breast halves', '1 cup brown sugar', '4 fresh peaches - peeled, pitted, and sliced', '1/8 teaspoon ground ginger', '1/8 teaspoon ground cloves', '2 tablespoons fresh lemon juice'] ['Home', 'Recipes', 'Meat and Poultry', 'Chicken', 'Chicken Breasts', 'Healthy']\n",
      "Healthy Turmeric Chicken Stew ['2 tablespoons olive oil', '2 skinless, boneless chicken breasts, cubed', '2 sweet potatoes, cubed', '1/2 red onion, chopped', '1 small eggplant, cubed', '2 cloves garlic, minced', '1 tablespoon minced fresh ginger root', '2 teaspoons ground turmeric', '1/2 cup low-sodium chicken broth'] ['Home', 'Recipes', 'Meat and Poultry', 'Chicken', 'Chicken Breasts', 'Healthy']\n",
      "Turkish Orange Salad with Mediterranean Dressing ['4 oranges', '3 blood oranges', '1 small onion, finely diced', '3 tablespoons olive oil', '2 tablespoons lemon juice', 'salt', '1 pinch freshly ground black pepper', '10 dried black olives'] ['Home', 'Recipes', 'Appetizers and Snacks', 'Fruit']\n",
      "Acai Smoothie Bowl ['1 large banana, divided', '3 1/2 ounces acai berry pulp, frozen, unsweetened', '2 tablespoons soy milk, or more as needed', '2 tablespoons granola'] ['Home', 'Recipes', 'Breakfast and Brunch', 'Drinks']\n",
      "Orange Roasted Salmon ['2 oranges, sliced into rounds', '1 onion, thinly sliced', '1 1/2 tablespoons olive oil', '5 (6 ounce) salmon fillets', '1 tablespoon lemon pepper', '1 1/2 teaspoons garlic powder', '1 tablespoon dried parsley', '1/2 cup orange juice', '1 1/2 tablespoons lemon juice', '1 tablespoon honey'] ['Home', 'Recipes', 'Main Dish', 'Seafood', 'Salmon', 'Baked Salmon']\n",
      "Quinoa with Asian Flavors ['1 tablespoon extra-virgin olive oil', '1 cup quinoa', '2 cups chicken broth', '2 tablespoons soy sauce', '1 tablespoon minced fresh ginger root', '1 clove garlic, minced', '2 green onions, chopped'] ['Home', 'Recipes', 'Side Dish', 'Grains']\n",
      "Chorizo-Spiced Party-Sized Chopped Veggie Salad ['1 head cauliflower, stemmed and chopped', '2 large cucumbers, seeded and chopped', '1 (8 ounce) package baby carrots, chopped', '8 ounces radishes, chopped', '1 (8 ounce) package mushrooms, stemmed and chopped', '4 ounces cilantro, chopped', '4 leaves kale, stemmed and chopped', '1 large poblano pepper, seeded and chopped', '1/2 cup lime juice', '1/2 cup white vinegar', '2 tablespoons ground paprika', '1 tablespoon extra-virgin olive oil', '1 tablespoon minced garlic', '1 tablespoon minced fresh oregano', '1 tablespoon ground cumin', '1 teaspoon chili powder', '1/2 teaspoon ground cloves', '1/2 teaspoon ground coriander', '1 pinch salt and ground black pepper to taste'] ['Home', 'Recipes', 'Salad', 'Vegetable Salads', 'Cauliflower']\n",
      "Khitchari ['4 cups water', '1/2 cup basmati rice', '1/2 cup split mung beans', '1 teaspoon grated fresh ginger, or more to taste', '1 teaspoon ground coriander', '1 teaspoon dried oregano leaves', '1 clove garlic, minced', '1/2 teaspoon ground cumin', '1/4 teaspoon fennel seeds'] ['Home', 'Recipes', 'Main Dish', 'Rice', 'Beans and Rice']\n",
      "Hummingbird Carrot Cake Oatmeal ['2/3 cup chopped fresh pineapple', '1/2 cup sliced carrot', '1 teaspoon water', '2/3 cup almond milk', '1/2 cup old-fashioned oats', '1/2 teaspoon ground cinnamon (optional)', '1/2 teaspoon ground ginger', '1 tablespoon chopped walnuts'] ['Home', 'Recipes', 'Breakfast and Brunch', 'Cereals', 'Oatmeal']\n",
      "Quinoa and Black Beans ['1 teaspoon vegetable oil', '1 onion, chopped', '3 cloves garlic, chopped', '3/4 cup quinoa', '1 1/2 cups vegetable broth', '1 teaspoon ground cumin', '1/4 teaspoon cayenne pepper', 'salt and ground black pepper to taste', '1 cup frozen corn kernels', '2 (15 ounce) cans black beans, rinsed and drained', '1/2 cup chopped fresh cilantro'] ['Home', 'Recipes', 'Side Dish', 'Grains']\n"
     ]
    }
   ],
   "source": [
    "# Scraping file combs allrecipes.com for information on: recipe title, ingredients, category. \n",
    " \n",
    "import re, time, string\n",
    "import numpy as np\n",
    "from selenium import webdriver\n",
    "import pandas as pd\n",
    "\n",
    "url = 'https://www.allrecipes.com/recipes/84/healthy-recipes/'\n",
    "\n",
    "driver = webdriver.Chrome()\n",
    "driver.implicitly_wait(30)\n",
    "driver.get(url)\n",
    "\n",
    "pages = ['https://www.allrecipes.com/recipes/84/healthy-recipes/?page=' + str(p) for p in range(1,2)]\n",
    "\n",
    "for j in pages:\n",
    "\n",
    "    driver.get(str(j))\n",
    "\n",
    "    fav = driver.find_elements_by_class_name('favorite')\n",
    "    ids = []\n",
    "    names = []\n",
    "    urls = []\n",
    "    for x in np.arange(len(fav)):\n",
    "        ids.append(str(fav[x].get_attribute('data-id')))\n",
    "        names.append(str(fav[x].get_attribute('data-name')))\n",
    "    urls = ['https://allrecipes.com/recipe/' + id for id in ids]   \n",
    "    #print(urls)\n",
    "    #print(len(urls))\n",
    "\n",
    "    for i in urls: \n",
    "        \n",
    "        try:\n",
    "            driver.get(str(i))\n",
    "\n",
    "            recipetitle = driver.find_element_by_class_name('recipe-summary__h1').text\n",
    "                       \n",
    "            ingred = driver.find_elements_by_class_name('checkList__item')\n",
    "            ingredients = []\n",
    "            for x in np.arange(len(ingred)-1):\n",
    "                ingredients.append(str(ingred[x].text))\n",
    "                \n",
    "\n",
    "            cat = driver.find_elements_by_class_name('toggle-similar__title')\n",
    "            categories = []\n",
    "            for x in np.arange(len(cat)):\n",
    "                categories.append(str(cat[x].text))\n",
    "        \n",
    "            print(recipetitle, ingredients, categories)\n",
    "       \n",
    "        except:\n",
    "            continue\n",
    "\n",
    "driver.quit()\n"
   ]
  },
  {
   "cell_type": "code",
   "execution_count": null,
   "metadata": {},
   "outputs": [],
   "source": [
    "#recipe_df = pd.DataFrame(columns=['title', 'ingredients', 'category'])\n",
    "#recipe_df.append(recipetitle, ingredients, categories)"
   ]
  },
  {
   "cell_type": "code",
   "execution_count": null,
   "metadata": {},
   "outputs": [],
   "source": []
  }
 ],
 "metadata": {
  "kernelspec": {
   "display_name": "Python 3",
   "language": "python",
   "name": "python3"
  },
  "language_info": {
   "codemirror_mode": {
    "name": "ipython",
    "version": 3
   },
   "file_extension": ".py",
   "mimetype": "text/x-python",
   "name": "python",
   "nbconvert_exporter": "python",
   "pygments_lexer": "ipython3",
   "version": "3.7.0"
  }
 },
 "nbformat": 4,
 "nbformat_minor": 2
}
