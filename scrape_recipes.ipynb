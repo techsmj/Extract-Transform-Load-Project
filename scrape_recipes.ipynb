{
 "cells": [
  {
   "cell_type": "code",
   "execution_count": 2,
   "metadata": {},
   "outputs": [
    {
     "name": "stdout",
     "output_type": "stream",
     "text": [
      "Baked Chicken with Peaches ['8 skinless, boneless chicken breast halves', '1 cup brown sugar', '4 fresh peaches - peeled, pitted, and sliced', '1/8 teaspoon ground ginger', '1/8 teaspoon ground cloves', '2 tablespoons fresh lemon juice'] ['Home', 'Recipes', 'Meat and Poultry', 'Chicken', 'Chicken Breasts', 'Healthy']\n",
      "Healthy Turmeric Chicken Stew ['2 tablespoons olive oil', '2 skinless, boneless chicken breasts, cubed', '2 sweet potatoes, cubed', '1/2 red onion, chopped', '1 small eggplant, cubed', '2 cloves garlic, minced', '1 tablespoon minced fresh ginger root', '2 teaspoons ground turmeric', '1/2 cup low-sodium chicken broth'] ['Home', 'Recipes', 'Meat and Poultry', 'Chicken', 'Chicken Breasts', 'Healthy']\n",
      "Turkish Orange Salad with Mediterranean Dressing ['4 oranges', '3 blood oranges', '1 small onion, finely diced', '3 tablespoons olive oil', '2 tablespoons lemon juice', 'salt', '1 pinch freshly ground black pepper', '10 dried black olives'] ['Home', 'Recipes', 'Appetizers and Snacks', 'Fruit']\n",
      "Acai Smoothie Bowl ['1 large banana, divided', '3 1/2 ounces acai berry pulp, frozen, unsweetened', '2 tablespoons soy milk, or more as needed', '2 tablespoons granola'] ['Home', 'Recipes', 'Breakfast and Brunch', 'Drinks']\n",
      "Orange Roasted Salmon ['2 oranges, sliced into rounds', '1 onion, thinly sliced', '1 1/2 tablespoons olive oil', '5 (6 ounce) salmon fillets', '1 tablespoon lemon pepper', '1 1/2 teaspoons garlic powder', '1 tablespoon dried parsley', '1/2 cup orange juice', '1 1/2 tablespoons lemon juice', '1 tablespoon honey'] ['Home', 'Recipes', 'Main Dish', 'Seafood', 'Salmon', 'Baked Salmon']\n",
      "Quinoa with Asian Flavors ['1 tablespoon extra-virgin olive oil', '1 cup quinoa', '2 cups chicken broth', '2 tablespoons soy sauce', '1 tablespoon minced fresh ginger root', '1 clove garlic, minced', '2 green onions, chopped'] ['Home', 'Recipes', 'Side Dish', 'Grains']\n",
      "Chorizo-Spiced Party-Sized Chopped Veggie Salad ['1 head cauliflower, stemmed and chopped', '2 large cucumbers, seeded and chopped', '1 (8 ounce) package baby carrots, chopped', '8 ounces radishes, chopped', '1 (8 ounce) package mushrooms, stemmed and chopped', '4 ounces cilantro, chopped', '4 leaves kale, stemmed and chopped', '1 large poblano pepper, seeded and chopped', '1/2 cup lime juice', '1/2 cup white vinegar', '2 tablespoons ground paprika', '1 tablespoon extra-virgin olive oil', '1 tablespoon minced garlic', '1 tablespoon minced fresh oregano', '1 tablespoon ground cumin', '1 teaspoon chili powder', '1/2 teaspoon ground cloves', '1/2 teaspoon ground coriander', '1 pinch salt and ground black pepper to taste'] ['Home', 'Recipes', 'Salad', 'Vegetable Salads', 'Cauliflower']\n",
      "Khitchari ['4 cups water', '1/2 cup basmati rice', '1/2 cup split mung beans', '1 teaspoon grated fresh ginger, or more to taste', '1 teaspoon ground coriander', '1 teaspoon dried oregano leaves', '1 clove garlic, minced', '1/2 teaspoon ground cumin', '1/4 teaspoon fennel seeds'] ['Home', 'Recipes', 'Main Dish', 'Rice', 'Beans and Rice']\n",
      "Hummingbird Carrot Cake Oatmeal ['2/3 cup chopped fresh pineapple', '1/2 cup sliced carrot', '1 teaspoon water', '2/3 cup almond milk', '1/2 cup old-fashioned oats', '1/2 teaspoon ground cinnamon (optional)', '1/2 teaspoon ground ginger', '1 tablespoon chopped walnuts'] ['Home', 'Recipes', 'Breakfast and Brunch', 'Cereals', 'Oatmeal']\n",
      "Quinoa and Black Beans ['1 teaspoon vegetable oil', '1 onion, chopped', '3 cloves garlic, chopped', '3/4 cup quinoa', '1 1/2 cups vegetable broth', '1 teaspoon ground cumin', '1/4 teaspoon cayenne pepper', 'salt and ground black pepper to taste', '1 cup frozen corn kernels', '2 (15 ounce) cans black beans, rinsed and drained', '1/2 cup chopped fresh cilantro'] ['Home', 'Recipes', 'Side Dish', 'Grains']\n",
      "Maple Salmon ['1/4 cup maple syrup', '2 tablespoons soy sauce', '1 clove garlic, minced', '1/4 teaspoon garlic salt', '1/8 teaspoon ground black pepper', '1 pound salmon'] ['Home', 'Recipes', 'Main Dish', 'Seafood', 'Salmon', 'Baked Salmon']\n",
      "Braised Balsamic Chicken ['6 skinless, boneless chicken breast halves', '1 teaspoon garlic salt', 'ground black pepper to taste', '2 tablespoons olive oil', '1 onion, thinly sliced', '1 (14.5 ounce) can diced tomatoes', '1/2 cup balsamic vinegar', '1 teaspoon dried basil', '1 teaspoon dried oregano', '1 teaspoon dried rosemary', '1/2 teaspoon dried thyme'] ['Home', 'Recipes', 'Meat and Poultry', 'Chicken', 'Chicken Breasts', 'Skillet']\n",
      "Annie's Fruit Salsa and Cinnamon Chips ['2 kiwis, peeled and diced', '2 Golden Delicious apples - peeled, cored and diced', '8 ounces raspberries', '1 pound strawberries', '2 tablespoons white sugar', '1 tablespoon brown sugar', '3 tablespoons fruit preserves, any flavor', '10 (10 inch) flour tortillas', 'butter flavored cooking spray', '2 tablespoons cinnamon sugar'] ['Home', 'Recipes', 'Appetizers and Snacks', 'Snacks', 'Kids', 'Healthy']\n",
      "Homemade Black Bean Veggie Burgers ['1 (16 ounce) can black beans, drained and rinsed', '1/2 green bell pepper, cut into 2 inch pieces', '1/2 onion, cut into wedges', '3 cloves garlic, peeled', '1 egg', '1 tablespoon chili powder', '1 tablespoon cumin', '1 teaspoon Thai chili sauce or hot sauce', '1/2 cup bread crumbs'] ['Home', 'Recipes', 'Main Dish', 'Burgers', 'Veggie']\n",
      "Amazing Pork Tenderloin in the Slow Cooker ['1 (2 pound) pork tenderloin', '1 (1 ounce) envelope dry onion soup mix', '1 cup water', '3/4 cup red wine', '3 tablespoons minced garlic', '3 tablespoons soy sauce', 'freshly ground black pepper to taste'] ['Home', 'Recipes', 'Meat and Poultry', 'Pork', 'Tenderloin']\n",
      "Baked Honey Mustard Chicken ['6 skinless, boneless chicken breast halves', 'salt and pepper to taste', '1/2 cup honey', '1/2 cup prepared mustard', '1 teaspoon dried basil', '1 teaspoon paprika', '1/2 teaspoon dried parsley'] ['Home', 'Recipes', 'Meat and Poultry', 'Chicken', 'Chicken Breasts', 'Healthy']\n",
      "Sarah's Applesauce ['4 apples - peeled, cored and chopped', '3/4 cup water', '1/4 cup white sugar', '1/2 teaspoon ground cinnamon'] ['Home', 'Recipes', 'Side Dish', 'Applesauce']\n",
      "Lentil Soup ['1 onion, chopped', '1/4 cup olive oil', '2 carrots, diced', '2 stalks celery, chopped', '2 cloves garlic, minced', '1 teaspoon dried oregano', '1 bay leaf', '1 teaspoon dried basil', '1 (14.5 ounce) can crushed tomatoes', '2 cups dry lentils', '8 cups water', '1/2 cup spinach, rinsed and thinly sliced', '2 tablespoons vinegar', 'salt to taste', 'ground black pepper to taste'] ['Home', 'Recipes', 'Soups, Stews and Chili', 'Soup', 'Beans and Peas', 'Lentil Soup']\n",
      "Exquisite Pizza Sauce ['1 (6 ounce) can tomato paste', '6 fluid ounces warm water (110 degrees F/45 degrees C)', '3 tablespoons grated Parmesan cheese', '1 teaspoon minced garlic', '2 tablespoons honey', '1 teaspoon anchovy paste (optional)', '3/4 teaspoon onion powder', '1/4 teaspoon dried oregano', '1/4 teaspoon dried marjoram', '1/4 teaspoon dried basil', '1/4 teaspoon ground black pepper', '1/8 teaspoon cayenne pepper', '1/8 teaspoon dried red pepper flakes', 'salt to taste'] ['Home', 'Recipes', 'Side Dish', 'Sauces and Condiments', 'Sauces', 'Pizza Sauce']\n",
      "Ginger Glazed Mahi Mahi ['3 tablespoons honey', '3 tablespoons soy sauce', '3 tablespoons balsamic vinegar', '1 teaspoon grated fresh ginger root', '1 clove garlic, crushed or to taste', '2 teaspoons olive oil', '4 (6 ounce) mahi mahi fillets', 'salt and pepper to taste', '1 tablespoon vegetable oil'] ['Home', 'Recipes', 'Seafood', 'Fish', 'Mahi Mahi']\n",
      "Fish Tacos ['1 cup all-purpose flour', '2 tablespoons cornstarch', '1 teaspoon baking powder', '1/2 teaspoon salt', '1 egg', '1 cup beer', '1/2 cup plain yogurt', '1/2 cup mayonnaise', '1 lime, juiced', '1 jalapeno pepper, minced', '1 teaspoon minced capers', '1/2 teaspoon dried oregano', '1/2 teaspoon ground cumin', '1/2 teaspoon dried dill weed', '1 teaspoon ground cayenne pepper', '1 quart oil for frying', '1 pound cod fillets, cut into 2 to 3 ounce portions', '1 (12 ounce) package corn tortillas', '1/2 medium head cabbage, finely shredded'] ['Home', 'Recipes', 'World Cuisine', 'Latin American', 'Mexican']\n",
      "Refried Beans Without the Refry ['1 onion, peeled and halved', '3 cups dry pinto beans, rinsed', '1/2 fresh jalapeno pepper, seeded and chopped', '2 tablespoons minced garlic', '5 teaspoons salt', '1 3/4 teaspoons fresh ground black pepper', '1/8 teaspoon ground cumin, optional', '9 cups water'] ['Home', 'Recipes', 'Side Dish', 'Beans and Peas']\n"
     ]
    },
    {
     "name": "stdout",
     "output_type": "stream",
     "text": [
      "Baked Kale Chips ['1 bunch kale', '1 tablespoon olive oil', '1 teaspoon seasoned salt'] ['Home', 'Recipes', 'Appetizers and Snacks', 'Snacks', 'Kids', 'Quick and Easy']\n",
      "Roasted Vegetables ['1 small butternut squash, cubed', '2 red bell peppers, seeded and diced', '1 sweet potato, peeled and cubed', '3 Yukon Gold potatoes, cubed', '1 red onion, quartered', '1 tablespoon chopped fresh thyme', '2 tablespoons chopped fresh rosemary', '1/4 cup olive oil', '2 tablespoons balsamic vinegar', 'salt and freshly ground black pepper'] ['Home', 'Recipes', 'Side Dish', 'Casseroles', 'Squash Casserole']\n",
      "Unbelievable Chicken ['1/4 cup cider vinegar', '3 tablespoons prepared coarse-ground mustard', '3 cloves garlic, peeled and minced', '1 lime, juiced', '1/2 lemon, juiced', '1/2 cup brown sugar', '1 1/2 teaspoons salt', 'ground black pepper to taste', '6 tablespoons olive oil', '6 skinless, boneless chicken breast halves'] ['Home', 'Recipes', 'Meat and Poultry', 'Chicken', 'Chicken Breasts', 'Healthy']\n",
      "Simple Whole Wheat Bread ['3 cups warm water (110 degrees F/45 degrees C)', '2 (.25 ounce) packages active dry yeast', '1/3 cup honey', '5 cups bread flour', '3 tablespoons butter, melted', '1/3 cup honey', '1 tablespoon salt', '3 1/2 cups whole wheat flour', '2 tablespoons butter, melted'] ['Home', 'Recipes', 'Bread', 'Yeast Bread', 'Whole Grain Bread', 'Wheat Bread']\n",
      "Six Can Chicken Tortilla Soup ['1 (15 ounce) can whole kernel corn, drained', '2 (14.5 ounce) cans chicken broth', '1 (10 ounce) can chunk chicken', '1 (15 ounce) can black beans', '1 (10 ounce) can diced tomatoes with green chile peppers, drained'] ['Home', 'Recipes', 'Soups, Stews and Chili', 'Soup', 'Tortilla Soup']\n",
      "Simple Turkey Chili ['1 1/2 teaspoons olive oil', '1 pound ground turkey', '1 onion, chopped', '2 cups water', '1 (28 ounce) can canned crushed tomatoes', '1 (16 ounce) can canned kidney beans - drained, rinsed, and mashed', '1 tablespoon garlic, minced', '2 tablespoons chili powder', '1/2 teaspoon paprika', '1/2 teaspoon dried oregano', '1/2 teaspoon ground cayenne pepper', '1/2 teaspoon ground cumin', '1/2 teaspoon salt', '1/2 teaspoon ground black pepper'] ['Home', 'Recipes', 'Soups, Stews and Chili', 'Chili', 'Turkey Chili']\n",
      "Black Bean and Salsa Soup ['2 (15 ounce) cans black beans, drained and rinsed', '1 1/2 cups vegetable broth', '1 cup chunky salsa', '1 teaspoon ground cumin', '4 tablespoons sour cream', '2 tablespoons thinly sliced green onion'] ['Home', 'Recipes', 'Soups, Stews and Chili', 'Soup', 'Beans and Peas', 'Black Bean Soup']\n"
     ]
    }
   ],
   "source": [
    "# Scraping file combs allrecipes.com for information on: recipe title, ingredients, category. \n",
    " \n",
    "import re, time, string\n",
    "import numpy as np\n",
    "from selenium import webdriver\n",
    "import pandas as pd\n",
    "\n",
    "url = 'https://www.allrecipes.com/recipes/84/healthy-recipes/'\n",
    "\n",
    "driver = webdriver.Chrome()\n",
    "driver.implicitly_wait(30)\n",
    "driver.get(url)\n",
    "\n",
    "pages = ['https://www.allrecipes.com/recipes/84/healthy-recipes/?page=' + str(p) for p in range(1,2)]\n",
    "\n",
    "for j in pages:\n",
    "\n",
    "    driver.get(str(j))\n",
    "\n",
    "    fav = driver.find_elements_by_class_name('favorite')\n",
    "    ids = []\n",
    "    names = []\n",
    "    urls = []\n",
    "    for x in np.arange(len(fav)):\n",
    "        ids.append(str(fav[x].get_attribute('data-id')))\n",
    "        names.append(str(fav[x].get_attribute('data-name')))\n",
    "    urls = ['https://allrecipes.com/recipe/' + id for id in ids]   \n",
    "    #print(urls)\n",
    "    #print(len(urls))\n",
    "\n",
    "    for i in urls: \n",
    "        \n",
    "        try:\n",
    "            driver.get(str(i))\n",
    "\n",
    "            recipetitle = driver.find_element_by_class_name('recipe-summary__h1').text\n",
    "                       \n",
    "            ingred = driver.find_elements_by_class_name('checkList__item')\n",
    "            ingredients = []\n",
    "            for x in np.arange(len(ingred)-1):\n",
    "                ingredients.append(str(ingred[x].text))\n",
    "                \n",
    "\n",
    "            cat = driver.find_elements_by_class_name('toggle-similar__title')\n",
    "            categories = []\n",
    "            for x in np.arange(len(cat)):\n",
    "                categories.append(str(cat[x].text))\n",
    "        \n",
    "            print(recipetitle, ingredients, categories)\n",
    "       \n",
    "        except:\n",
    "            continue\n",
    "\n",
    "driver.quit()\n"
   ]
  },
  {
   "cell_type": "code",
   "execution_count": null,
   "metadata": {},
   "outputs": [],
   "source": [
    "#recipe_df = pd.DataFrame(columns=['title', 'ingredients', 'category'])\n",
    "#recipe_df.append(recipetitle, ingredients, categories)"
   ]
  },
  {
   "cell_type": "code",
   "execution_count": null,
   "metadata": {},
   "outputs": [],
   "source": []
  }
 ],
 "metadata": {
  "kernelspec": {
   "display_name": "Python 3",
   "language": "python",
   "name": "python3"
  },
  "language_info": {
   "codemirror_mode": {
    "name": "ipython",
    "version": 3
   },
   "file_extension": ".py",
   "mimetype": "text/x-python",
   "name": "python",
   "nbconvert_exporter": "python",
   "pygments_lexer": "ipython3",
   "version": "3.7.0"
  }
 },
 "nbformat": 4,
 "nbformat_minor": 2
}
